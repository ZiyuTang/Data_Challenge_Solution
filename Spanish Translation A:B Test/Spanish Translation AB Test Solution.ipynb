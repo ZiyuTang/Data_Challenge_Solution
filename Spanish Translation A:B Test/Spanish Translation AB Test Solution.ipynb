{
 "cells": [
  {
   "cell_type": "markdown",
   "metadata": {},
   "source": [
    "## Spanish Translation AB Test Solution\n"
   ]
  },
  {
   "cell_type": "code",
   "execution_count": 1,
   "metadata": {},
   "outputs": [],
   "source": [
    "import pandas as pd\n",
    "import numpy as np\n",
    "import seaborn as sns\n",
    "import matplotlib.pyplot as plt\n",
    "from scipy import stats\n",
    "from scipy.stats import chi2_contingency \n",
    "import researchpy as rp\n",
    "from sklearn.preprocessing import LabelEncoder\n",
    "from sklearn.tree import DecisionTreeClassifier\n",
    "from sklearn.model_selection import train_test_split\n",
    "from sklearn.metrics import classification_report\n",
    "from sklearn import tree\n",
    "import graphviz\n",
    "\n",
    "import warnings\n",
    "warnings.filterwarnings(\"ignore\")"
   ]
  },
  {
   "cell_type": "code",
   "execution_count": 2,
   "metadata": {},
   "outputs": [],
   "source": [
    "test = pd.read_csv('test_table.csv')\n",
    "user = pd.read_csv('user_table.csv')"
   ]
  },
  {
   "cell_type": "code",
   "execution_count": 3,
   "metadata": {},
   "outputs": [
    {
     "data": {
      "text/html": [
       "<div>\n",
       "<style scoped>\n",
       "    .dataframe tbody tr th:only-of-type {\n",
       "        vertical-align: middle;\n",
       "    }\n",
       "\n",
       "    .dataframe tbody tr th {\n",
       "        vertical-align: top;\n",
       "    }\n",
       "\n",
       "    .dataframe thead th {\n",
       "        text-align: right;\n",
       "    }\n",
       "</style>\n",
       "<table border=\"1\" class=\"dataframe\">\n",
       "  <thead>\n",
       "    <tr style=\"text-align: right;\">\n",
       "      <th></th>\n",
       "      <th>user_id</th>\n",
       "      <th>date</th>\n",
       "      <th>source</th>\n",
       "      <th>device</th>\n",
       "      <th>browser_language</th>\n",
       "      <th>ads_channel</th>\n",
       "      <th>browser</th>\n",
       "      <th>conversion</th>\n",
       "      <th>test</th>\n",
       "    </tr>\n",
       "  </thead>\n",
       "  <tbody>\n",
       "    <tr>\n",
       "      <th>0</th>\n",
       "      <td>315281</td>\n",
       "      <td>2015-12-03</td>\n",
       "      <td>Direct</td>\n",
       "      <td>Web</td>\n",
       "      <td>ES</td>\n",
       "      <td>NaN</td>\n",
       "      <td>IE</td>\n",
       "      <td>1</td>\n",
       "      <td>0</td>\n",
       "    </tr>\n",
       "    <tr>\n",
       "      <th>1</th>\n",
       "      <td>497851</td>\n",
       "      <td>2015-12-04</td>\n",
       "      <td>Ads</td>\n",
       "      <td>Web</td>\n",
       "      <td>ES</td>\n",
       "      <td>Google</td>\n",
       "      <td>IE</td>\n",
       "      <td>0</td>\n",
       "      <td>1</td>\n",
       "    </tr>\n",
       "    <tr>\n",
       "      <th>2</th>\n",
       "      <td>848402</td>\n",
       "      <td>2015-12-04</td>\n",
       "      <td>Ads</td>\n",
       "      <td>Web</td>\n",
       "      <td>ES</td>\n",
       "      <td>Facebook</td>\n",
       "      <td>Chrome</td>\n",
       "      <td>0</td>\n",
       "      <td>0</td>\n",
       "    </tr>\n",
       "    <tr>\n",
       "      <th>3</th>\n",
       "      <td>290051</td>\n",
       "      <td>2015-12-03</td>\n",
       "      <td>Ads</td>\n",
       "      <td>Mobile</td>\n",
       "      <td>Other</td>\n",
       "      <td>Facebook</td>\n",
       "      <td>Android_App</td>\n",
       "      <td>0</td>\n",
       "      <td>1</td>\n",
       "    </tr>\n",
       "    <tr>\n",
       "      <th>4</th>\n",
       "      <td>548435</td>\n",
       "      <td>2015-11-30</td>\n",
       "      <td>Ads</td>\n",
       "      <td>Web</td>\n",
       "      <td>ES</td>\n",
       "      <td>Google</td>\n",
       "      <td>FireFox</td>\n",
       "      <td>0</td>\n",
       "      <td>1</td>\n",
       "    </tr>\n",
       "  </tbody>\n",
       "</table>\n",
       "</div>"
      ],
      "text/plain": [
       "   user_id        date  source  device browser_language ads_channel  \\\n",
       "0   315281  2015-12-03  Direct     Web               ES         NaN   \n",
       "1   497851  2015-12-04     Ads     Web               ES      Google   \n",
       "2   848402  2015-12-04     Ads     Web               ES    Facebook   \n",
       "3   290051  2015-12-03     Ads  Mobile            Other    Facebook   \n",
       "4   548435  2015-11-30     Ads     Web               ES      Google   \n",
       "\n",
       "       browser  conversion  test  \n",
       "0           IE           1     0  \n",
       "1           IE           0     1  \n",
       "2       Chrome           0     0  \n",
       "3  Android_App           0     1  \n",
       "4      FireFox           0     1  "
      ]
     },
     "execution_count": 3,
     "metadata": {},
     "output_type": "execute_result"
    }
   ],
   "source": [
    "test.head()"
   ]
  },
  {
   "cell_type": "code",
   "execution_count": 4,
   "metadata": {},
   "outputs": [
    {
     "data": {
      "text/plain": [
       "(453321, 9)"
      ]
     },
     "execution_count": 4,
     "metadata": {},
     "output_type": "execute_result"
    }
   ],
   "source": [
    "test.shape"
   ]
  },
  {
   "cell_type": "code",
   "execution_count": 5,
   "metadata": {},
   "outputs": [
    {
     "data": {
      "text/html": [
       "<div>\n",
       "<style scoped>\n",
       "    .dataframe tbody tr th:only-of-type {\n",
       "        vertical-align: middle;\n",
       "    }\n",
       "\n",
       "    .dataframe tbody tr th {\n",
       "        vertical-align: top;\n",
       "    }\n",
       "\n",
       "    .dataframe thead th {\n",
       "        text-align: right;\n",
       "    }\n",
       "</style>\n",
       "<table border=\"1\" class=\"dataframe\">\n",
       "  <thead>\n",
       "    <tr style=\"text-align: right;\">\n",
       "      <th></th>\n",
       "      <th>user_id</th>\n",
       "      <th>sex</th>\n",
       "      <th>age</th>\n",
       "      <th>country</th>\n",
       "    </tr>\n",
       "  </thead>\n",
       "  <tbody>\n",
       "    <tr>\n",
       "      <th>0</th>\n",
       "      <td>765821</td>\n",
       "      <td>M</td>\n",
       "      <td>20</td>\n",
       "      <td>Mexico</td>\n",
       "    </tr>\n",
       "    <tr>\n",
       "      <th>1</th>\n",
       "      <td>343561</td>\n",
       "      <td>F</td>\n",
       "      <td>27</td>\n",
       "      <td>Nicaragua</td>\n",
       "    </tr>\n",
       "    <tr>\n",
       "      <th>2</th>\n",
       "      <td>118744</td>\n",
       "      <td>M</td>\n",
       "      <td>23</td>\n",
       "      <td>Colombia</td>\n",
       "    </tr>\n",
       "    <tr>\n",
       "      <th>3</th>\n",
       "      <td>987753</td>\n",
       "      <td>F</td>\n",
       "      <td>27</td>\n",
       "      <td>Venezuela</td>\n",
       "    </tr>\n",
       "    <tr>\n",
       "      <th>4</th>\n",
       "      <td>554597</td>\n",
       "      <td>F</td>\n",
       "      <td>20</td>\n",
       "      <td>Spain</td>\n",
       "    </tr>\n",
       "  </tbody>\n",
       "</table>\n",
       "</div>"
      ],
      "text/plain": [
       "   user_id sex  age    country\n",
       "0   765821   M   20     Mexico\n",
       "1   343561   F   27  Nicaragua\n",
       "2   118744   M   23   Colombia\n",
       "3   987753   F   27  Venezuela\n",
       "4   554597   F   20      Spain"
      ]
     },
     "execution_count": 5,
     "metadata": {},
     "output_type": "execute_result"
    }
   ],
   "source": [
    "user.head()"
   ]
  },
  {
   "cell_type": "code",
   "execution_count": 6,
   "metadata": {},
   "outputs": [
    {
     "data": {
      "text/plain": [
       "(452867, 4)"
      ]
     },
     "execution_count": 6,
     "metadata": {},
     "output_type": "execute_result"
    }
   ],
   "source": [
    "user.shape"
   ]
  },
  {
   "cell_type": "markdown",
   "metadata": {},
   "source": [
    "### Data Cleaning"
   ]
  },
  {
   "cell_type": "markdown",
   "metadata": {},
   "source": [
    "#### Merging Table"
   ]
  },
  {
   "cell_type": "code",
   "execution_count": 7,
   "metadata": {},
   "outputs": [],
   "source": [
    "data = pd.merge(test,\n",
    "               user,\n",
    "               how = 'left', on = 'user_id')"
   ]
  },
  {
   "cell_type": "code",
   "execution_count": 8,
   "metadata": {},
   "outputs": [
    {
     "data": {
      "text/html": [
       "<div>\n",
       "<style scoped>\n",
       "    .dataframe tbody tr th:only-of-type {\n",
       "        vertical-align: middle;\n",
       "    }\n",
       "\n",
       "    .dataframe tbody tr th {\n",
       "        vertical-align: top;\n",
       "    }\n",
       "\n",
       "    .dataframe thead th {\n",
       "        text-align: right;\n",
       "    }\n",
       "</style>\n",
       "<table border=\"1\" class=\"dataframe\">\n",
       "  <thead>\n",
       "    <tr style=\"text-align: right;\">\n",
       "      <th></th>\n",
       "      <th>user_id</th>\n",
       "      <th>date</th>\n",
       "      <th>source</th>\n",
       "      <th>device</th>\n",
       "      <th>browser_language</th>\n",
       "      <th>ads_channel</th>\n",
       "      <th>browser</th>\n",
       "      <th>conversion</th>\n",
       "      <th>test</th>\n",
       "      <th>sex</th>\n",
       "      <th>age</th>\n",
       "      <th>country</th>\n",
       "    </tr>\n",
       "  </thead>\n",
       "  <tbody>\n",
       "    <tr>\n",
       "      <th>0</th>\n",
       "      <td>315281</td>\n",
       "      <td>2015-12-03</td>\n",
       "      <td>Direct</td>\n",
       "      <td>Web</td>\n",
       "      <td>ES</td>\n",
       "      <td>NaN</td>\n",
       "      <td>IE</td>\n",
       "      <td>1</td>\n",
       "      <td>0</td>\n",
       "      <td>M</td>\n",
       "      <td>32.0</td>\n",
       "      <td>Spain</td>\n",
       "    </tr>\n",
       "    <tr>\n",
       "      <th>1</th>\n",
       "      <td>497851</td>\n",
       "      <td>2015-12-04</td>\n",
       "      <td>Ads</td>\n",
       "      <td>Web</td>\n",
       "      <td>ES</td>\n",
       "      <td>Google</td>\n",
       "      <td>IE</td>\n",
       "      <td>0</td>\n",
       "      <td>1</td>\n",
       "      <td>M</td>\n",
       "      <td>21.0</td>\n",
       "      <td>Mexico</td>\n",
       "    </tr>\n",
       "    <tr>\n",
       "      <th>2</th>\n",
       "      <td>848402</td>\n",
       "      <td>2015-12-04</td>\n",
       "      <td>Ads</td>\n",
       "      <td>Web</td>\n",
       "      <td>ES</td>\n",
       "      <td>Facebook</td>\n",
       "      <td>Chrome</td>\n",
       "      <td>0</td>\n",
       "      <td>0</td>\n",
       "      <td>M</td>\n",
       "      <td>34.0</td>\n",
       "      <td>Spain</td>\n",
       "    </tr>\n",
       "    <tr>\n",
       "      <th>3</th>\n",
       "      <td>290051</td>\n",
       "      <td>2015-12-03</td>\n",
       "      <td>Ads</td>\n",
       "      <td>Mobile</td>\n",
       "      <td>Other</td>\n",
       "      <td>Facebook</td>\n",
       "      <td>Android_App</td>\n",
       "      <td>0</td>\n",
       "      <td>1</td>\n",
       "      <td>F</td>\n",
       "      <td>22.0</td>\n",
       "      <td>Mexico</td>\n",
       "    </tr>\n",
       "    <tr>\n",
       "      <th>4</th>\n",
       "      <td>548435</td>\n",
       "      <td>2015-11-30</td>\n",
       "      <td>Ads</td>\n",
       "      <td>Web</td>\n",
       "      <td>ES</td>\n",
       "      <td>Google</td>\n",
       "      <td>FireFox</td>\n",
       "      <td>0</td>\n",
       "      <td>1</td>\n",
       "      <td>M</td>\n",
       "      <td>19.0</td>\n",
       "      <td>Mexico</td>\n",
       "    </tr>\n",
       "  </tbody>\n",
       "</table>\n",
       "</div>"
      ],
      "text/plain": [
       "   user_id        date  source  device browser_language ads_channel  \\\n",
       "0   315281  2015-12-03  Direct     Web               ES         NaN   \n",
       "1   497851  2015-12-04     Ads     Web               ES      Google   \n",
       "2   848402  2015-12-04     Ads     Web               ES    Facebook   \n",
       "3   290051  2015-12-03     Ads  Mobile            Other    Facebook   \n",
       "4   548435  2015-11-30     Ads     Web               ES      Google   \n",
       "\n",
       "       browser  conversion  test sex   age country  \n",
       "0           IE           1     0   M  32.0   Spain  \n",
       "1           IE           0     1   M  21.0  Mexico  \n",
       "2       Chrome           0     0   M  34.0   Spain  \n",
       "3  Android_App           0     1   F  22.0  Mexico  \n",
       "4      FireFox           0     1   M  19.0  Mexico  "
      ]
     },
     "execution_count": 8,
     "metadata": {},
     "output_type": "execute_result"
    }
   ],
   "source": [
    "data.head()"
   ]
  },
  {
   "cell_type": "code",
   "execution_count": 9,
   "metadata": {},
   "outputs": [
    {
     "data": {
      "text/plain": [
       "(453321, 12)"
      ]
     },
     "execution_count": 9,
     "metadata": {},
     "output_type": "execute_result"
    }
   ],
   "source": [
    "data.shape"
   ]
  },
  {
   "cell_type": "code",
   "execution_count": 10,
   "metadata": {},
   "outputs": [
    {
     "data": {
      "text/html": [
       "<div>\n",
       "<style scoped>\n",
       "    .dataframe tbody tr th:only-of-type {\n",
       "        vertical-align: middle;\n",
       "    }\n",
       "\n",
       "    .dataframe tbody tr th {\n",
       "        vertical-align: top;\n",
       "    }\n",
       "\n",
       "    .dataframe thead th {\n",
       "        text-align: right;\n",
       "    }\n",
       "</style>\n",
       "<table border=\"1\" class=\"dataframe\">\n",
       "  <thead>\n",
       "    <tr style=\"text-align: right;\">\n",
       "      <th></th>\n",
       "      <th>user_id</th>\n",
       "      <th>conversion</th>\n",
       "      <th>test</th>\n",
       "      <th>age</th>\n",
       "    </tr>\n",
       "  </thead>\n",
       "  <tbody>\n",
       "    <tr>\n",
       "      <th>count</th>\n",
       "      <td>453321.000000</td>\n",
       "      <td>453321.000000</td>\n",
       "      <td>453321.000000</td>\n",
       "      <td>452867.000000</td>\n",
       "    </tr>\n",
       "    <tr>\n",
       "      <th>mean</th>\n",
       "      <td>499937.514728</td>\n",
       "      <td>0.049579</td>\n",
       "      <td>0.476446</td>\n",
       "      <td>27.130740</td>\n",
       "    </tr>\n",
       "    <tr>\n",
       "      <th>std</th>\n",
       "      <td>288665.193436</td>\n",
       "      <td>0.217073</td>\n",
       "      <td>0.499445</td>\n",
       "      <td>6.776678</td>\n",
       "    </tr>\n",
       "    <tr>\n",
       "      <th>min</th>\n",
       "      <td>1.000000</td>\n",
       "      <td>0.000000</td>\n",
       "      <td>0.000000</td>\n",
       "      <td>18.000000</td>\n",
       "    </tr>\n",
       "    <tr>\n",
       "      <th>25%</th>\n",
       "      <td>249816.000000</td>\n",
       "      <td>0.000000</td>\n",
       "      <td>0.000000</td>\n",
       "      <td>22.000000</td>\n",
       "    </tr>\n",
       "    <tr>\n",
       "      <th>50%</th>\n",
       "      <td>500019.000000</td>\n",
       "      <td>0.000000</td>\n",
       "      <td>0.000000</td>\n",
       "      <td>26.000000</td>\n",
       "    </tr>\n",
       "    <tr>\n",
       "      <th>75%</th>\n",
       "      <td>749522.000000</td>\n",
       "      <td>0.000000</td>\n",
       "      <td>1.000000</td>\n",
       "      <td>31.000000</td>\n",
       "    </tr>\n",
       "    <tr>\n",
       "      <th>max</th>\n",
       "      <td>1000000.000000</td>\n",
       "      <td>1.000000</td>\n",
       "      <td>1.000000</td>\n",
       "      <td>70.000000</td>\n",
       "    </tr>\n",
       "  </tbody>\n",
       "</table>\n",
       "</div>"
      ],
      "text/plain": [
       "              user_id     conversion           test            age\n",
       "count   453321.000000  453321.000000  453321.000000  452867.000000\n",
       "mean    499937.514728       0.049579       0.476446      27.130740\n",
       "std     288665.193436       0.217073       0.499445       6.776678\n",
       "min          1.000000       0.000000       0.000000      18.000000\n",
       "25%     249816.000000       0.000000       0.000000      22.000000\n",
       "50%     500019.000000       0.000000       0.000000      26.000000\n",
       "75%     749522.000000       0.000000       1.000000      31.000000\n",
       "max    1000000.000000       1.000000       1.000000      70.000000"
      ]
     },
     "execution_count": 10,
     "metadata": {},
     "output_type": "execute_result"
    }
   ],
   "source": [
    "data.describe()"
   ]
  },
  {
   "cell_type": "markdown",
   "metadata": {},
   "source": [
    "#### Check Duplicates"
   ]
  },
  {
   "cell_type": "code",
   "execution_count": 11,
   "metadata": {},
   "outputs": [
    {
     "data": {
      "text/plain": [
       "False"
      ]
     },
     "execution_count": 11,
     "metadata": {},
     "output_type": "execute_result"
    }
   ],
   "source": [
    "data['user_id'].duplicated().any()"
   ]
  },
  {
   "cell_type": "markdown",
   "metadata": {},
   "source": [
    "#### Check Null Value"
   ]
  },
  {
   "cell_type": "code",
   "execution_count": 12,
   "metadata": {},
   "outputs": [
    {
     "data": {
      "text/plain": [
       "True"
      ]
     },
     "execution_count": 12,
     "metadata": {},
     "output_type": "execute_result"
    }
   ],
   "source": [
    "data.isnull().values.any()"
   ]
  },
  {
   "cell_type": "code",
   "execution_count": 13,
   "metadata": {},
   "outputs": [
    {
     "data": {
      "text/plain": [
       "['ads_channel', 'sex', 'age', 'country']"
      ]
     },
     "execution_count": 13,
     "metadata": {},
     "output_type": "execute_result"
    }
   ],
   "source": [
    "data.columns[data.isna().any()].tolist()"
   ]
  },
  {
   "cell_type": "code",
   "execution_count": 14,
   "metadata": {},
   "outputs": [
    {
     "data": {
      "text/plain": [
       "user_id               int64\n",
       "date                 object\n",
       "source               object\n",
       "device               object\n",
       "browser_language     object\n",
       "ads_channel          object\n",
       "browser              object\n",
       "conversion            int64\n",
       "test                  int64\n",
       "sex                  object\n",
       "age                 float64\n",
       "country              object\n",
       "dtype: object"
      ]
     },
     "execution_count": 14,
     "metadata": {},
     "output_type": "execute_result"
    }
   ],
   "source": [
    "data.dtypes"
   ]
  },
  {
   "cell_type": "markdown",
   "metadata": {},
   "source": [
    "#### Fill Null Value"
   ]
  },
  {
   "cell_type": "code",
   "execution_count": 15,
   "metadata": {},
   "outputs": [],
   "source": [
    "data['ads_channel'] = data['ads_channel'].fillna('NA')\n",
    "data['sex'] = data['sex'].fillna('NA')\n",
    "data['country'] = data['country'].fillna('NA')\n",
    "data['age'].fillna((data['age'].mean()), inplace=True)"
   ]
  },
  {
   "cell_type": "markdown",
   "metadata": {},
   "source": [
    "### EDA"
   ]
  },
  {
   "cell_type": "markdown",
   "metadata": {},
   "source": [
    "#### Conversion Rate by Country"
   ]
  },
  {
   "cell_type": "code",
   "execution_count": 16,
   "metadata": {},
   "outputs": [
    {
     "data": {
      "image/png": "[encoded data removed]",
      "text/plain": [
       "<Figure size 1440x360 with 1 Axes>"
      ]
     },
     "metadata": {
      "needs_background": "light"
     },
     "output_type": "display_data"
    }
   ],
   "source": [
    "conversion_by_country = pd.DataFrame(data.groupby('country')['conversion'].mean())\n",
    "conversion_by_country = conversion_by_country.reset_index()\n",
    "conversion_by_country = conversion_by_country.sort_values(by=['conversion'],ascending = False)\n",
    "\n",
    "fig = plt.figure(figsize = (20, 5)) \n",
    "  \n",
    "# creating the bar plot \n",
    "plt.bar(conversion_by_country['country'], conversion_by_country['conversion'], color ='maroon',  \n",
    "        width = 0.4) \n",
    "  \n",
    "plt.xlabel('Country') \n",
    "plt.ylabel('Conversion Rate') \n",
    "plt.title('Conversion Rate By Country') \n",
    "plt.show()"
   ]
  },
  {
   "cell_type": "markdown",
   "metadata": {},
   "source": [
    "#### Conversion Rate by Group"
   ]
  },
  {
   "cell_type": "code",
   "execution_count": 38,
   "metadata": {},
   "outputs": [
    {
     "data": {
      "image/png": "[encoded data removed]",
      "text/plain": [
       "<Figure size 720x360 with 1 Axes>"
      ]
     },
     "metadata": {
      "needs_background": "light"
     },
     "output_type": "display_data"
    }
   ],
   "source": [
    "conversion_by_group = pd.DataFrame(data[data.country != 'Spain'].groupby('test')['conversion'].mean())\n",
    "conversion_by_group = conversion_by_group.reset_index()\n",
    "conversion_by_group = conversion_by_group.sort_values(by=['conversion'],ascending = False)\n",
    "conversion_by_group['test'] = conversion_by_group['test'].astype('str')\n",
    "\n",
    "fig = plt.figure(figsize = (10, 5)) \n",
    "  \n",
    "# creating the bar plot \n",
    "plt.bar(conversion_by_group['test'], conversion_by_group['conversion'], color ='maroon',  \n",
    "        width = 0.4) \n",
    "  \n",
    "plt.xlabel('Group (0 for control group)') \n",
    "plt.ylabel('Conversion Rate') \n",
    "plt.title('Conversion Rate By Group') \n",
    "plt.show()"
   ]
  },
  {
   "cell_type": "markdown",
   "metadata": {},
   "source": [
    "#### Conversion Rate per Group by Date"
   ]
  },
  {
   "cell_type": "code",
   "execution_count": 39,
   "metadata": {},
   "outputs": [
    {
     "data": {
      "image/png": "[encoded data removed]",
      "text/plain": [
       "<Figure size 432x288 with 1 Axes>"
      ]
     },
     "metadata": {
      "needs_background": "light"
     },
     "output_type": "display_data"
    }
   ],
   "source": [
    "conversion_by_date = pd.DataFrame(data[data.country != 'Spain'].groupby(['date','test'])['conversion'].mean())\n",
    "conversion_by_date = conversion_by_date.reset_index()\n",
    "\n",
    "plt.plot(conversion_by_date[conversion_by_date.test==1].date, conversion_by_date[conversion_by_date.test==1].conversion,\\\n",
    "         color ='maroon',label = \"experiment\", )\n",
    "plt.plot(conversion_by_date[conversion_by_date.test==0].date, conversion_by_date[conversion_by_date.test==0].conversion,\\\n",
    "         color = 'sandybrown',label = \"control\")\n",
    "plt.xlabel('Date')\n",
    "plt.ylabel('Conversion Rate')\n",
    "plt.title('Conversion Rate per Group by Date')\n",
    "plt.legend()\n",
    "plt.show()"
   ]
  },
  {
   "cell_type": "markdown",
   "metadata": {},
   "source": [
    "#### Group Size"
   ]
  },
  {
   "cell_type": "code",
   "execution_count": 40,
   "metadata": {},
   "outputs": [
    {
     "data": {
      "image/png": "[encoded data removed]",
      "text/plain": [
       "<Figure size 720x360 with 1 Axes>"
      ]
     },
     "metadata": {
      "needs_background": "light"
     },
     "output_type": "display_data"
    }
   ],
   "source": [
    "df = pd.DataFrame(data[data.country != 'Spain'].groupby(['test'])['user_id'].count()).reset_index()\n",
    "df['test'] = df['test'].astype('str')\n",
    "fig = plt.figure(figsize = (10, 5)) \n",
    "  \n",
    "# creating the bar plot \n",
    "plt.bar(df['test'], df['user_id'], color ='maroon',  \n",
    "        width = 0.4) \n",
    "  \n",
    "plt.xlabel('Group (0 for control group)') \n",
    "plt.ylabel('Count') \n",
    "plt.title('Group Size') \n",
    "plt.show()"
   ]
  },
  {
   "cell_type": "markdown",
   "metadata": {},
   "source": [
    "#### Feature Distribution by Group"
   ]
  },
  {
   "cell_type": "code",
   "execution_count": 41,
   "metadata": {},
   "outputs": [],
   "source": [
    "def visual(df,feature):\n",
    "    df = pd.DataFrame(data[data.country != 'Spain'].groupby([feature,'test'])['user_id'].count()).reset_index()\n",
    "    fig, ax = plt.subplots(figsize=(10, 5))\n",
    "    x = np.arange(len(df[feature].unique()))\n",
    "    bar_width = 0.4\n",
    "    b1 = ax.bar(x, df.loc[df['test'] == 0, 'user_id'],\n",
    "            width=bar_width, color = 'sandybrown',label = 'Control')\n",
    "    b2 = ax.bar(x + bar_width, df.loc[df['test'] == 1, 'user_id'],\n",
    "            width=bar_width, color = 'maroon', label = 'Experiment')\n",
    "\n",
    "    ax.set_xticks(x + bar_width / 2)\n",
    "    ax.set_xticklabels(df[feature].unique())\n",
    "    ax.legend()"
   ]
  },
  {
   "cell_type": "code",
   "execution_count": 42,
   "metadata": {},
   "outputs": [
    {
     "data": {
      "image/png": "[encoded data removed]",
      "text/plain": [
       "<Figure size 720x360 with 1 Axes>"
      ]
     },
     "metadata": {
      "needs_background": "light"
     },
     "output_type": "display_data"
    }
   ],
   "source": [
    "visual(df,'source')"
   ]
  },
  {
   "cell_type": "code",
   "execution_count": 43,
   "metadata": {},
   "outputs": [
    {
     "data": {
      "image/png": "[encoded data removed]",
      "text/plain": [
       "<Figure size 720x360 with 1 Axes>"
      ]
     },
     "metadata": {
      "needs_background": "light"
     },
     "output_type": "display_data"
    }
   ],
   "source": [
    "visual(df,'device')"
   ]
  },
  {
   "cell_type": "code",
   "execution_count": 44,
   "metadata": {},
   "outputs": [
    {
     "data": {
      "image/png": "[encoded data removed]",
      "text/plain": [
       "<Figure size 720x360 with 1 Axes>"
      ]
     },
     "metadata": {
      "needs_background": "light"
     },
     "output_type": "display_data"
    }
   ],
   "source": [
    "visual(df,'browser_language')"
   ]
  },
  {
   "cell_type": "code",
   "execution_count": 45,
   "metadata": {},
   "outputs": [
    {
     "data": {
      "image/png": "[encoded data removed]",
      "text/plain": [
       "<Figure size 720x360 with 1 Axes>"
      ]
     },
     "metadata": {
      "needs_background": "light"
     },
     "output_type": "display_data"
    }
   ],
   "source": [
    "visual(df,'ads_channel')"
   ]
  },
  {
   "cell_type": "code",
   "execution_count": 46,
   "metadata": {},
   "outputs": [
    {
     "data": {
      "image/png": "[encoded data removed]",
      "text/plain": [
       "<Figure size 720x360 with 1 Axes>"
      ]
     },
     "metadata": {
      "needs_background": "light"
     },
     "output_type": "display_data"
    }
   ],
   "source": [
    "visual(df,'browser')"
   ]
  },
  {
   "cell_type": "code",
   "execution_count": 47,
   "metadata": {},
   "outputs": [
    {
     "data": {
      "image/png": "[encoded data removed]",
      "text/plain": [
       "<Figure size 720x360 with 1 Axes>"
      ]
     },
     "metadata": {
      "needs_background": "light"
     },
     "output_type": "display_data"
    }
   ],
   "source": [
    "visual(df,'sex')"
   ]
  },
  {
   "cell_type": "code",
   "execution_count": 48,
   "metadata": {},
   "outputs": [
    {
     "data": {
      "image/png": "[encoded data removed]",
      "text/plain": [
       "<Figure size 432x288 with 1 Axes>"
      ]
     },
     "metadata": {
      "needs_background": "light"
     },
     "output_type": "display_data"
    }
   ],
   "source": [
    "x1 = data[data.country != 'Spain'].loc[data.test==1, 'age']\n",
    "x2 = data[data.country != 'Spain'].loc[data.test==0, 'age']\n",
    "\n",
    "kwargs = dict(alpha=0.5, bins=10)\n",
    "\n",
    "plt.hist(x1, **kwargs, color='maroon', label='Experiment')\n",
    "plt.hist(x2, **kwargs, color='sandybrown', label='Control')\n",
    "plt.gca().set(title='Frequency Histogram of Diamond Depths', ylabel='Frequency')\n",
    "plt.xlim(15,75)\n",
    "plt.legend();"
   ]
  },
  {
   "cell_type": "code",
   "execution_count": 50,
   "metadata": {},
   "outputs": [
    {
     "data": {
      "text/plain": [
       "<matplotlib.legend.Legend at 0x1a15ad9eb8>"
      ]
     },
     "execution_count": 50,
     "metadata": {},
     "output_type": "execute_result"
    },
    {
     "data": {
      "image/png": "[encoded data removed]",
      "text/plain": [
       "<Figure size 1440x576 with 1 Axes>"
      ]
     },
     "metadata": {
      "needs_background": "light"
     },
     "output_type": "display_data"
    }
   ],
   "source": [
    "df = pd.DataFrame(data.groupby(['country','test'])['user_id'].count()).reset_index()\n",
    "df.loc[-1] = ['Spain', 1, 0]\n",
    "df.index = df.index + 1\n",
    "df = df.sort_index()\n",
    "df = df.sort_values(by=['country'],ascending = True)\n",
    "\n",
    "fig, ax = plt.subplots(figsize=(20, 8))\n",
    "x = np.arange(len(df['country'].unique()))\n",
    "bar_width = 0.4\n",
    "b1 = ax.bar(x, df.loc[df['test'] == 0, 'user_id'],\n",
    "            width=bar_width, color = 'sandybrown',label = 'Control')\n",
    "b2 = ax.bar(x + bar_width, df.loc[df['test'] == 1, 'user_id'],\n",
    "            width=bar_width, color = 'maroon', label = 'Experiment')\n",
    "\n",
    "# Fix the x-axes.\n",
    "ax.set_xticks(x + bar_width / 2)\n",
    "ax.set_xticklabels(df['country'].unique())\n",
    "ax.legend()"
   ]
  },
  {
   "cell_type": "markdown",
   "metadata": {},
   "source": [
    "Main Take Away:\n",
    "\n",
    "According to the descriptive analysis, I found that:\n",
    "\n",
    "1. Spain-based users have a much higher conversion rate than any other Spanish-speaking country. Argentina and Uruguay have obviously lower conversion rates than other countries.\n",
    "\n",
    "2. The conversion rate of control group is constantly higher than that of the experiment group.\n",
    "\n",
    "3. For the experiment group, we can't see a signicant increase in the conversion rate over the days.\n",
    "\n",
    "4. The experiment group and control group share same distribution in almost all features, except country.\n"
   ]
  },
  {
   "cell_type": "markdown",
   "metadata": {},
   "source": [
    "### Question One: Confirm that the test is actually negative."
   ]
  },
  {
   "cell_type": "markdown",
   "metadata": {},
   "source": [
    "This is a t-test problem: to test that the average conversion rate of control group is significantly higher than that of experimen group.\n",
    "\n",
    "Especially, our target customers for this A/B test is Spanish-speaking countries excluding Spain. It is important to exclude Spain from the control group cases."
   ]
  },
  {
   "cell_type": "code",
   "execution_count": 29,
   "metadata": {},
   "outputs": [
    {
     "data": {
      "text/plain": [
       "(     Variable         N      Mean        SD        SE  95% Conf.  Interval\n",
       " 0     Control  185556.0  0.048330  0.214464  0.000498   0.047355  0.049306\n",
       " 1  Experiment  215983.0  0.043425  0.203812  0.000439   0.042565  0.044284\n",
       " 2    combined  401539.0  0.045692  0.208816  0.000330   0.045046  0.046338,\n",
       "                      Independent t-test      results\n",
       " 0  Difference (Control - Experiment) =        0.0049\n",
       " 1                 Degrees of freedom =   401537.0000\n",
       " 2                                  t =        7.4225\n",
       " 3              Two side test p value =        0.0000\n",
       " 4             Difference < 0 p value =        1.0000\n",
       " 5             Difference > 0 p value =        0.0000\n",
       " 6                          Cohen's d =        0.0235\n",
       " 7                          Hedge's g =        0.0235\n",
       " 8                      Glass's delta =        0.0229\n",
       " 9                                  r =        0.0117)"
      ]
     },
     "execution_count": 29,
     "metadata": {},
     "output_type": "execute_result"
    }
   ],
   "source": [
    "rp.ttest(group1= data['conversion'][(data['test'] == 0)&(data['country'] != 'Spain')], group1_name= \"Control\",\n",
    "         group2= data['conversion'][data['test'] == 1], group2_name= \"Experiment\")\n"
   ]
  },
  {
   "cell_type": "markdown",
   "metadata": {},
   "source": [
    "According to the t-test result above, the conversion rate of control group (4.8%) is significantly higher than that of experiment group (4.3%) at 5% level, which means that the test is actually negative. \n",
    "\n",
    "It appears that the old version of the site with just one translation across Spain and LatAm performs better."
   ]
  },
  {
   "cell_type": "markdown",
   "metadata": {},
   "source": [
    "### Question Two: Explain why that might be happening."
   ]
  },
  {
   "cell_type": "markdown",
   "metadata": {},
   "source": [
    "Although the t-test result confirmed that the localized translation performed worse, it didn't truely mean that the localized translation was not a good solution.\n",
    "\n",
    "According to the EDA above, I found that the experiment may have sample selection bias problem - experiment group had much more users from Argentina and Uruguay than conrol group, which can influence the reliabilty of the statistical result.\n",
    "\n",
    "We should make sure that the samples in control and experiment group are ramdomly selected and share the same distribution of features.\n",
    "\n",
    "Furthermore, we only have 5-day observation window, which can also influence the result analysis. It will be better to collect more data in a wider date range to decide whether the localized translation works."
   ]
  },
  {
   "cell_type": "code",
   "execution_count": 30,
   "metadata": {},
   "outputs": [
    {
     "data": {
      "text/html": [
       "<div>\n",
       "<style scoped>\n",
       "    .dataframe tbody tr th:only-of-type {\n",
       "        vertical-align: middle;\n",
       "    }\n",
       "\n",
       "    .dataframe tbody tr th {\n",
       "        vertical-align: top;\n",
       "    }\n",
       "\n",
       "    .dataframe thead th {\n",
       "        text-align: right;\n",
       "    }\n",
       "</style>\n",
       "<table border=\"1\" class=\"dataframe\">\n",
       "  <thead>\n",
       "    <tr style=\"text-align: right;\">\n",
       "      <th></th>\n",
       "      <th>country</th>\n",
       "      <th>p_value</th>\n",
       "      <th>conversion_rate_experiment</th>\n",
       "      <th>conversion_rate_control</th>\n",
       "    </tr>\n",
       "  </thead>\n",
       "  <tbody>\n",
       "    <tr>\n",
       "      <th>0</th>\n",
       "      <td>Mexico</td>\n",
       "      <td>0.1655</td>\n",
       "      <td>0.051186</td>\n",
       "      <td>0.049495</td>\n",
       "    </tr>\n",
       "    <tr>\n",
       "      <th>1</th>\n",
       "      <td>Venezuela</td>\n",
       "      <td>0.5737</td>\n",
       "      <td>0.048978</td>\n",
       "      <td>0.050344</td>\n",
       "    </tr>\n",
       "    <tr>\n",
       "      <th>2</th>\n",
       "      <td>Bolivia</td>\n",
       "      <td>0.7189</td>\n",
       "      <td>0.047901</td>\n",
       "      <td>0.049369</td>\n",
       "    </tr>\n",
       "    <tr>\n",
       "      <th>3</th>\n",
       "      <td>Colombia</td>\n",
       "      <td>0.4237</td>\n",
       "      <td>0.050571</td>\n",
       "      <td>0.052089</td>\n",
       "    </tr>\n",
       "    <tr>\n",
       "      <th>4</th>\n",
       "      <td>Uruguay</td>\n",
       "      <td>0.8828</td>\n",
       "      <td>0.012907</td>\n",
       "      <td>0.012048</td>\n",
       "    </tr>\n",
       "    <tr>\n",
       "      <th>5</th>\n",
       "      <td>El Salvador</td>\n",
       "      <td>0.2483</td>\n",
       "      <td>0.047947</td>\n",
       "      <td>0.053554</td>\n",
       "    </tr>\n",
       "    <tr>\n",
       "      <th>6</th>\n",
       "      <td>Nicaragua</td>\n",
       "      <td>0.7804</td>\n",
       "      <td>0.054177</td>\n",
       "      <td>0.052647</td>\n",
       "    </tr>\n",
       "    <tr>\n",
       "      <th>7</th>\n",
       "      <td>Peru</td>\n",
       "      <td>0.7719</td>\n",
       "      <td>0.050604</td>\n",
       "      <td>0.049914</td>\n",
       "    </tr>\n",
       "    <tr>\n",
       "      <th>8</th>\n",
       "      <td>Costa Rica</td>\n",
       "      <td>0.6879</td>\n",
       "      <td>0.054738</td>\n",
       "      <td>0.052256</td>\n",
       "    </tr>\n",
       "    <tr>\n",
       "      <th>9</th>\n",
       "      <td>Chile</td>\n",
       "      <td>0.3029</td>\n",
       "      <td>0.051295</td>\n",
       "      <td>0.048107</td>\n",
       "    </tr>\n",
       "    <tr>\n",
       "      <th>10</th>\n",
       "      <td>Argentina</td>\n",
       "      <td>0.3218</td>\n",
       "      <td>0.013725</td>\n",
       "      <td>0.015071</td>\n",
       "    </tr>\n",
       "    <tr>\n",
       "      <th>11</th>\n",
       "      <td>Ecuador</td>\n",
       "      <td>0.9615</td>\n",
       "      <td>0.048988</td>\n",
       "      <td>0.049154</td>\n",
       "    </tr>\n",
       "    <tr>\n",
       "      <th>12</th>\n",
       "      <td>Guatemala</td>\n",
       "      <td>0.5722</td>\n",
       "      <td>0.048647</td>\n",
       "      <td>0.050643</td>\n",
       "    </tr>\n",
       "    <tr>\n",
       "      <th>13</th>\n",
       "      <td>Honduras</td>\n",
       "      <td>0.4717</td>\n",
       "      <td>0.047540</td>\n",
       "      <td>0.050906</td>\n",
       "    </tr>\n",
       "    <tr>\n",
       "      <th>14</th>\n",
       "      <td>Paraguay</td>\n",
       "      <td>0.8837</td>\n",
       "      <td>0.049229</td>\n",
       "      <td>0.048493</td>\n",
       "    </tr>\n",
       "    <tr>\n",
       "      <th>15</th>\n",
       "      <td>Panama</td>\n",
       "      <td>0.7054</td>\n",
       "      <td>0.049370</td>\n",
       "      <td>0.046796</td>\n",
       "    </tr>\n",
       "    <tr>\n",
       "      <th>16</th>\n",
       "      <td>NA</td>\n",
       "      <td>0.3977</td>\n",
       "      <td>0.057416</td>\n",
       "      <td>0.077551</td>\n",
       "    </tr>\n",
       "  </tbody>\n",
       "</table>\n",
       "</div>"
      ],
      "text/plain": [
       "        country  p_value  conversion_rate_experiment  conversion_rate_control\n",
       "0        Mexico   0.1655                    0.051186                 0.049495\n",
       "1     Venezuela   0.5737                    0.048978                 0.050344\n",
       "2       Bolivia   0.7189                    0.047901                 0.049369\n",
       "3      Colombia   0.4237                    0.050571                 0.052089\n",
       "4       Uruguay   0.8828                    0.012907                 0.012048\n",
       "5   El Salvador   0.2483                    0.047947                 0.053554\n",
       "6     Nicaragua   0.7804                    0.054177                 0.052647\n",
       "7          Peru   0.7719                    0.050604                 0.049914\n",
       "8    Costa Rica   0.6879                    0.054738                 0.052256\n",
       "9         Chile   0.3029                    0.051295                 0.048107\n",
       "10    Argentina   0.3218                    0.013725                 0.015071\n",
       "11      Ecuador   0.9615                    0.048988                 0.049154\n",
       "12    Guatemala   0.5722                    0.048647                 0.050643\n",
       "13     Honduras   0.4717                    0.047540                 0.050906\n",
       "14     Paraguay   0.8837                    0.049229                 0.048493\n",
       "15       Panama   0.7054                    0.049370                 0.046796\n",
       "16           NA   0.3977                    0.057416                 0.077551"
      ]
     },
     "execution_count": 30,
     "metadata": {},
     "output_type": "execute_result"
    }
   ],
   "source": [
    "result = pd.DataFrame(columns = ['country', 'p_value','conversion_rate_experiment','conversion_rate_control'])\n",
    "country = []\n",
    "p_value = []\n",
    "conversion_rate_experiment= []\n",
    "conversion_rate_control = []\n",
    "\n",
    "list_ = data.country.unique().tolist()\n",
    "list_.remove('Spain')\n",
    "for i in list_:\n",
    "    des, res = rp.ttest(group1= data['conversion'][(data['test'] == 0)&(data['country'] == i)], group1_name= \"Control\",\n",
    "         group2= data['conversion'][(data['test'] == 1)&(data['country'] == i)], group2_name= \"Experiment\")\n",
    "    country.append(i)\n",
    "    p_value.append(res.iloc[3,1])\n",
    "    conversion_rate_experiment.append(des.iloc[1,2])\n",
    "    conversion_rate_control.append(des.iloc[0,2])\n",
    "\n",
    "result['country'] = country\n",
    "result['p_value'] = p_value\n",
    "result['conversion_rate_experiment'] = conversion_rate_experiment\n",
    "result['conversion_rate_control'] = conversion_rate_control\n",
    "result"
   ]
  },
  {
   "cell_type": "markdown",
   "metadata": {},
   "source": [
    "#### Omit cases from Argentina and Uruguay to check the effect of localized translation"
   ]
  },
  {
   "cell_type": "code",
   "execution_count": 52,
   "metadata": {},
   "outputs": [
    {
     "data": {
      "text/plain": [
       "(     Variable         N      Mean        SD        SE  95% Conf.  Interval\n",
       " 0     Control  175785.0  0.050186  0.218330  0.000521   0.049166  0.051207\n",
       " 1  Experiment  174887.0  0.050421  0.218813  0.000523   0.049396  0.051447\n",
       " 2    combined  350672.0  0.050303  0.218571  0.000369   0.049580  0.051027,\n",
       "                      Independent t-test      results\n",
       " 0  Difference (Control - Experiment) =       -0.0002\n",
       " 1                 Degrees of freedom =   350670.0000\n",
       " 2                                  t =       -0.3181\n",
       " 3              Two side test p value =        0.7504\n",
       " 4             Difference < 0 p value =        0.3752\n",
       " 5             Difference > 0 p value =        0.6248\n",
       " 6                          Cohen's d =       -0.0011\n",
       " 7                          Hedge's g =       -0.0011\n",
       " 8                      Glass's delta =       -0.0011\n",
       " 9                                  r =        0.0005)"
      ]
     },
     "execution_count": 52,
     "metadata": {},
     "output_type": "execute_result"
    }
   ],
   "source": [
    "df = data[(data.country != 'Spain')&(data.country != 'Argentina')&(data.country != 'Uruguay')]\n",
    "rp.ttest(group1= df['conversion'][(df['test'] == 0)], group1_name= \"Control\",\n",
    "         group2= df['conversion'][df['test'] == 1], group2_name= \"Experiment\")\n"
   ]
  },
  {
   "cell_type": "markdown",
   "metadata": {},
   "source": [
    "According to the t-test result above, there was no significant difference in the performance of localized translation and non-localized translation by controling the country (p-values are all greater than 0.1), which means that although localized translation didn't significantly increase conversion rate, it didn't decrease the conversion rate either.\n",
    "\n",
    "Furthermore, when I omitted the cases from Argentina and Uruguay and recalculate the effect of AB test, I found that the p-value was greater than 0.1, which meant that there was no significant difference in control and experiment group when deleting the biased samples.\n",
    "\n",
    "Thus, we are confident to say that we encountered a sample selection bias in this AB test case. \n",
    "\n",
    "Our next action is to create an algorithm to automatically detect such sample selection bias before we make a conclusion."
   ]
  },
  {
   "cell_type": "markdown",
   "metadata": {},
   "source": [
    "### Question Three: Design an algorithm"
   ]
  },
  {
   "cell_type": "markdown",
   "metadata": {},
   "source": [
    "#### Quick Check Solution"
   ]
  },
  {
   "cell_type": "markdown",
   "metadata": {},
   "source": [
    "Hypothesis: \n",
    "\n",
    "If the sample is randomly selected, then there should be no siginicant relationship between features and experiment/control group.\n",
    "\n",
    "In other words, for the categorical variables, the p-value of Chi-square test is not significant, and  for the numeric variables, the p-values of t-test is not siginicant either. Thus, we can say that samples are selected randomly under the features.\n",
    "\n",
    "This quick check solution can output the features with their p-values which show significant/insignificant relation with experiment/control group. If the p-value is lower than 0.1, we should be aware of the potential risk of selection bias."
   ]
  },
  {
   "cell_type": "code",
   "execution_count": 31,
   "metadata": {},
   "outputs": [
    {
     "data": {
      "text/html": [
       "<div>\n",
       "<style scoped>\n",
       "    .dataframe tbody tr th:only-of-type {\n",
       "        vertical-align: middle;\n",
       "    }\n",
       "\n",
       "    .dataframe tbody tr th {\n",
       "        vertical-align: top;\n",
       "    }\n",
       "\n",
       "    .dataframe thead th {\n",
       "        text-align: right;\n",
       "    }\n",
       "</style>\n",
       "<table border=\"1\" class=\"dataframe\">\n",
       "  <thead>\n",
       "    <tr style=\"text-align: right;\">\n",
       "      <th></th>\n",
       "      <th>Feature</th>\n",
       "      <th>p_value</th>\n",
       "    </tr>\n",
       "  </thead>\n",
       "  <tbody>\n",
       "    <tr>\n",
       "      <th>6</th>\n",
       "      <td>country</td>\n",
       "      <td>0.000000</td>\n",
       "    </tr>\n",
       "    <tr>\n",
       "      <th>5</th>\n",
       "      <td>sex</td>\n",
       "      <td>0.003765</td>\n",
       "    </tr>\n",
       "    <tr>\n",
       "      <th>4</th>\n",
       "      <td>browser</td>\n",
       "      <td>0.020616</td>\n",
       "    </tr>\n",
       "    <tr>\n",
       "      <th>7</th>\n",
       "      <td>age</td>\n",
       "      <td>0.192700</td>\n",
       "    </tr>\n",
       "    <tr>\n",
       "      <th>1</th>\n",
       "      <td>device</td>\n",
       "      <td>0.264464</td>\n",
       "    </tr>\n",
       "    <tr>\n",
       "      <th>0</th>\n",
       "      <td>source</td>\n",
       "      <td>0.340499</td>\n",
       "    </tr>\n",
       "    <tr>\n",
       "      <th>2</th>\n",
       "      <td>browser_language</td>\n",
       "      <td>0.539991</td>\n",
       "    </tr>\n",
       "    <tr>\n",
       "      <th>3</th>\n",
       "      <td>ads_channel</td>\n",
       "      <td>0.772381</td>\n",
       "    </tr>\n",
       "  </tbody>\n",
       "</table>\n",
       "</div>"
      ],
      "text/plain": [
       "            Feature   p_value\n",
       "6           country  0.000000\n",
       "5               sex  0.003765\n",
       "4           browser  0.020616\n",
       "7               age  0.192700\n",
       "1            device  0.264464\n",
       "0            source  0.340499\n",
       "2  browser_language  0.539991\n",
       "3       ads_channel  0.772381"
      ]
     },
     "execution_count": 31,
     "metadata": {},
     "output_type": "execute_result"
    }
   ],
   "source": [
    "df = data[data.country != 'Spain']\n",
    "df = df.drop('date',axis=1)\n",
    "columns_cat = df.select_dtypes(include='object').columns.tolist()\n",
    "columns_num = df.select_dtypes(include='float64').columns.tolist()\n",
    "\n",
    "detect_result = pd.DataFrame(columns = ['Feature', 'p_value'])\n",
    "\n",
    "feature = []\n",
    "p_value = []\n",
    "\n",
    "for i in columns_cat:\n",
    "    feature.append(i)\n",
    "    table = pd.pivot_table(df, values='user_id', index=[i],\n",
    "                    columns=['test'], aggfunc=lambda x: len(x.unique())).reset_index()\n",
    "\n",
    "    list_1 = []\n",
    "    list_all = []\n",
    "\n",
    "    for i in range(table.shape[0]):\n",
    "        list_1.append(table.iloc[i,1])\n",
    "        list_1.append(table.iloc[i,2])\n",
    "        list_all.append(list_1)\n",
    "        list_1 = []\n",
    "    \n",
    "    stat, p, dof, expected = chi2_contingency(list_all)\n",
    "    p_value.append(p)\n",
    "\n",
    "for i in columns_num:\n",
    "    des, res = rp.ttest(group1= df['age'][(data['test'] == 0)], group1_name= \"Control\",\n",
    "         group2= data['age'][data['test'] == 1], group2_name= \"Experiment\")\n",
    "    feature.append(i)\n",
    "    p_value.append(res.iloc[3,1])\n",
    "\n",
    "detect_result['Feature'] = feature\n",
    "detect_result['p_value'] = p_value\n",
    "detect_result = detect_result.sort_values('p_value')\n",
    "detect_result"
   ]
  },
  {
   "cell_type": "markdown",
   "metadata": {},
   "source": [
    "According to the output table above, marketing team should pay attention to the selection bias caused by country which is the top risky feature in the table."
   ]
  },
  {
   "cell_type": "markdown",
   "metadata": {},
   "source": [
    "#### Official Solution"
   ]
  },
  {
   "cell_type": "markdown",
   "metadata": {},
   "source": [
    "Hypothesis:\n",
    "\n",
    "If samples in the experiment and control group are randomly selected, then the cases distribution in each node of a decision tree should be balanced, which means that the experiment and control group cases are almost evenly in such dimension.\n",
    "\n",
    "Thus, I create a decision tree with 'test' as target, to check the distribution of the experiment and control group in each node."
   ]
  },
  {
   "cell_type": "code",
   "execution_count": 32,
   "metadata": {},
   "outputs": [],
   "source": [
    "model_dta = data[data.country != 'Spain']\n",
    "model_dta = model_dta[['test','source','device','browser_language','ads_channel','browser','sex','age','country']]\n",
    "columns = model_dta.select_dtypes(include='object').columns.tolist()\n",
    "model_dta = pd.get_dummies(model_dta, columns = columns)\n"
   ]
  },
  {
   "cell_type": "code",
   "execution_count": 33,
   "metadata": {},
   "outputs": [
    {
     "data": {
      "text/html": [
       "<div>\n",
       "<style scoped>\n",
       "    .dataframe tbody tr th:only-of-type {\n",
       "        vertical-align: middle;\n",
       "    }\n",
       "\n",
       "    .dataframe tbody tr th {\n",
       "        vertical-align: top;\n",
       "    }\n",
       "\n",
       "    .dataframe thead th {\n",
       "        text-align: right;\n",
       "    }\n",
       "</style>\n",
       "<table border=\"1\" class=\"dataframe\">\n",
       "  <thead>\n",
       "    <tr style=\"text-align: right;\">\n",
       "      <th></th>\n",
       "      <th>test</th>\n",
       "      <th>age</th>\n",
       "      <th>source_Ads</th>\n",
       "      <th>source_Direct</th>\n",
       "      <th>source_SEO</th>\n",
       "      <th>device_Mobile</th>\n",
       "      <th>device_Web</th>\n",
       "      <th>browser_language_EN</th>\n",
       "      <th>browser_language_ES</th>\n",
       "      <th>browser_language_Other</th>\n",
       "      <th>...</th>\n",
       "      <th>country_Guatemala</th>\n",
       "      <th>country_Honduras</th>\n",
       "      <th>country_Mexico</th>\n",
       "      <th>country_NA</th>\n",
       "      <th>country_Nicaragua</th>\n",
       "      <th>country_Panama</th>\n",
       "      <th>country_Paraguay</th>\n",
       "      <th>country_Peru</th>\n",
       "      <th>country_Uruguay</th>\n",
       "      <th>country_Venezuela</th>\n",
       "    </tr>\n",
       "  </thead>\n",
       "  <tbody>\n",
       "    <tr>\n",
       "      <th>1</th>\n",
       "      <td>1</td>\n",
       "      <td>21.0</td>\n",
       "      <td>1</td>\n",
       "      <td>0</td>\n",
       "      <td>0</td>\n",
       "      <td>0</td>\n",
       "      <td>1</td>\n",
       "      <td>0</td>\n",
       "      <td>1</td>\n",
       "      <td>0</td>\n",
       "      <td>...</td>\n",
       "      <td>0</td>\n",
       "      <td>0</td>\n",
       "      <td>1</td>\n",
       "      <td>0</td>\n",
       "      <td>0</td>\n",
       "      <td>0</td>\n",
       "      <td>0</td>\n",
       "      <td>0</td>\n",
       "      <td>0</td>\n",
       "      <td>0</td>\n",
       "    </tr>\n",
       "    <tr>\n",
       "      <th>3</th>\n",
       "      <td>1</td>\n",
       "      <td>22.0</td>\n",
       "      <td>1</td>\n",
       "      <td>0</td>\n",
       "      <td>0</td>\n",
       "      <td>1</td>\n",
       "      <td>0</td>\n",
       "      <td>0</td>\n",
       "      <td>0</td>\n",
       "      <td>1</td>\n",
       "      <td>...</td>\n",
       "      <td>0</td>\n",
       "      <td>0</td>\n",
       "      <td>1</td>\n",
       "      <td>0</td>\n",
       "      <td>0</td>\n",
       "      <td>0</td>\n",
       "      <td>0</td>\n",
       "      <td>0</td>\n",
       "      <td>0</td>\n",
       "      <td>0</td>\n",
       "    </tr>\n",
       "    <tr>\n",
       "      <th>4</th>\n",
       "      <td>1</td>\n",
       "      <td>19.0</td>\n",
       "      <td>1</td>\n",
       "      <td>0</td>\n",
       "      <td>0</td>\n",
       "      <td>0</td>\n",
       "      <td>1</td>\n",
       "      <td>0</td>\n",
       "      <td>1</td>\n",
       "      <td>0</td>\n",
       "      <td>...</td>\n",
       "      <td>0</td>\n",
       "      <td>0</td>\n",
       "      <td>1</td>\n",
       "      <td>0</td>\n",
       "      <td>0</td>\n",
       "      <td>0</td>\n",
       "      <td>0</td>\n",
       "      <td>0</td>\n",
       "      <td>0</td>\n",
       "      <td>0</td>\n",
       "    </tr>\n",
       "    <tr>\n",
       "      <th>5</th>\n",
       "      <td>1</td>\n",
       "      <td>22.0</td>\n",
       "      <td>0</td>\n",
       "      <td>1</td>\n",
       "      <td>0</td>\n",
       "      <td>1</td>\n",
       "      <td>0</td>\n",
       "      <td>0</td>\n",
       "      <td>1</td>\n",
       "      <td>0</td>\n",
       "      <td>...</td>\n",
       "      <td>0</td>\n",
       "      <td>0</td>\n",
       "      <td>0</td>\n",
       "      <td>0</td>\n",
       "      <td>0</td>\n",
       "      <td>0</td>\n",
       "      <td>0</td>\n",
       "      <td>0</td>\n",
       "      <td>0</td>\n",
       "      <td>1</td>\n",
       "    </tr>\n",
       "    <tr>\n",
       "      <th>6</th>\n",
       "      <td>0</td>\n",
       "      <td>35.0</td>\n",
       "      <td>0</td>\n",
       "      <td>0</td>\n",
       "      <td>1</td>\n",
       "      <td>1</td>\n",
       "      <td>0</td>\n",
       "      <td>0</td>\n",
       "      <td>0</td>\n",
       "      <td>1</td>\n",
       "      <td>...</td>\n",
       "      <td>0</td>\n",
       "      <td>0</td>\n",
       "      <td>1</td>\n",
       "      <td>0</td>\n",
       "      <td>0</td>\n",
       "      <td>0</td>\n",
       "      <td>0</td>\n",
       "      <td>0</td>\n",
       "      <td>0</td>\n",
       "      <td>0</td>\n",
       "    </tr>\n",
       "  </tbody>\n",
       "</table>\n",
       "<p>5 rows × 43 columns</p>\n",
       "</div>"
      ],
      "text/plain": [
       "   test   age  source_Ads  source_Direct  source_SEO  device_Mobile  \\\n",
       "1     1  21.0           1              0           0              0   \n",
       "3     1  22.0           1              0           0              1   \n",
       "4     1  19.0           1              0           0              0   \n",
       "5     1  22.0           0              1           0              1   \n",
       "6     0  35.0           0              0           1              1   \n",
       "\n",
       "   device_Web  browser_language_EN  browser_language_ES  \\\n",
       "1           1                    0                    1   \n",
       "3           0                    0                    0   \n",
       "4           1                    0                    1   \n",
       "5           0                    0                    1   \n",
       "6           0                    0                    0   \n",
       "\n",
       "   browser_language_Other  ...  country_Guatemala  country_Honduras  \\\n",
       "1                       0  ...                  0                 0   \n",
       "3                       1  ...                  0                 0   \n",
       "4                       0  ...                  0                 0   \n",
       "5                       0  ...                  0                 0   \n",
       "6                       1  ...                  0                 0   \n",
       "\n",
       "   country_Mexico  country_NA  country_Nicaragua  country_Panama  \\\n",
       "1               1           0                  0               0   \n",
       "3               1           0                  0               0   \n",
       "4               1           0                  0               0   \n",
       "5               0           0                  0               0   \n",
       "6               1           0                  0               0   \n",
       "\n",
       "   country_Paraguay  country_Peru  country_Uruguay  country_Venezuela  \n",
       "1                 0             0                0                  0  \n",
       "3                 0             0                0                  0  \n",
       "4                 0             0                0                  0  \n",
       "5                 0             0                0                  1  \n",
       "6                 0             0                0                  0  \n",
       "\n",
       "[5 rows x 43 columns]"
      ]
     },
     "execution_count": 33,
     "metadata": {},
     "output_type": "execute_result"
    }
   ],
   "source": [
    "model_dta.head()"
   ]
  },
  {
   "cell_type": "code",
   "execution_count": 34,
   "metadata": {},
   "outputs": [
    {
     "data": {
      "text/plain": [
       "(array([185556.,      0.,      0.,      0.,      0.,      0.,      0.,\n",
       "             0.,      0., 215983.]),\n",
       " array([0. , 0.1, 0.2, 0.3, 0.4, 0.5, 0.6, 0.7, 0.8, 0.9, 1. ]),\n",
       " <a list of 10 Patch objects>)"
      ]
     },
     "execution_count": 34,
     "metadata": {},
     "output_type": "execute_result"
    },
    {
     "data": {
      "image/png": "[encoded data removed]",
      "text/plain": [
       "<Figure size 432x288 with 1 Axes>"
      ]
     },
     "metadata": {
      "needs_background": "light"
     },
     "output_type": "display_data"
    }
   ],
   "source": [
    "plt.hist(model_dta.test, color = 'maroon')"
   ]
  },
  {
   "cell_type": "code",
   "execution_count": 35,
   "metadata": {},
   "outputs": [],
   "source": [
    "X = model_dta.iloc[:,1:]\n",
    "y = model_dta.test.values\n",
    "\n",
    "X_train, X_test, y_train, y_test = train_test_split(X, y, test_size=0.20, random_state=22)\n",
    "\n",
    "dtree = DecisionTreeClassifier(max_depth=4, random_state=22)\n",
    "dtree.fit(X_train, y_train)\n",
    "yhat = dtree.predict(X_test)"
   ]
  },
  {
   "cell_type": "code",
   "execution_count": 36,
   "metadata": {
    "code_folding": []
   },
   "outputs": [
    {
     "data": {
      "image/svg+xml": [
       "<?xml version=\"1.0\" encoding=\"UTF-8\" standalone=\"no\"?>\n",
       "<!DOCTYPE svg PUBLIC \"-//W3C//DTD SVG 1.1//EN\"\n",
       " \"http://www.w3.org/Graphics/SVG/1.1/DTD/svg11.dtd\">\n",
       "<!-- Generated by graphviz version 2.40.1 (20161225.0304)\n",
       " -->\n",
       "<!-- Title: Tree Pages: 1 -->\n",
       "<svg width=\"2214pt\" height=\"552pt\"\n",
       " viewBox=\"0.00 0.00 2214.00 552.00\" xmlns=\"http://www.w3.org/2000/svg\" xmlns:xlink=\"http://www.w3.org/1999/xlink\">\n",
       "<g id=\"graph0\" class=\"graph\" transform=\"scale(1 1) rotate(0) translate(4 548)\">\n",
       "<title>Tree</title>\n",
       "<polygon fill=\"#ffffff\" stroke=\"transparent\" points=\"-4,4 -4,-548 2210,-548 2210,4 -4,4\"/>\n",
       "<!-- 0 -->\n",
       "<g id=\"node1\" class=\"node\">\n",
       "<title>0</title>\n",
       "<polygon fill=\"#e3f1fb\" stroke=\"#000000\" points=\"1193.5,-544 1030.5,-544 1030.5,-461 1193.5,-461 1193.5,-544\"/>\n",
       "<text text-anchor=\"middle\" x=\"1112\" y=\"-528.8\" font-family=\"Times,serif\" font-size=\"14.00\" fill=\"#000000\">country_Argentina &lt;= 0.5</text>\n",
       "<text text-anchor=\"middle\" x=\"1112\" y=\"-513.8\" font-family=\"Times,serif\" font-size=\"14.00\" fill=\"#000000\">gini = 0.497</text>\n",
       "<text text-anchor=\"middle\" x=\"1112\" y=\"-498.8\" font-family=\"Times,serif\" font-size=\"14.00\" fill=\"#000000\">samples = 321231</text>\n",
       "<text text-anchor=\"middle\" x=\"1112\" y=\"-483.8\" font-family=\"Times,serif\" font-size=\"14.00\" fill=\"#000000\">value = [148443, 172788]</text>\n",
       "<text text-anchor=\"middle\" x=\"1112\" y=\"-468.8\" font-family=\"Times,serif\" font-size=\"14.00\" fill=\"#000000\">class = 1</text>\n",
       "</g>\n",
       "<!-- 1 -->\n",
       "<g id=\"node2\" class=\"node\">\n",
       "<title>1</title>\n",
       "<polygon fill=\"#fcfeff\" stroke=\"#000000\" points=\"916,-425 754,-425 754,-342 916,-342 916,-425\"/>\n",
       "<text text-anchor=\"middle\" x=\"835\" y=\"-409.8\" font-family=\"Times,serif\" font-size=\"14.00\" fill=\"#000000\">country_Uruguay &lt;= 0.5</text>\n",
       "<text text-anchor=\"middle\" x=\"835\" y=\"-394.8\" font-family=\"Times,serif\" font-size=\"14.00\" fill=\"#000000\">gini = 0.5</text>\n",
       "<text text-anchor=\"middle\" x=\"835\" y=\"-379.8\" font-family=\"Times,serif\" font-size=\"14.00\" fill=\"#000000\">samples = 283829</text>\n",
       "<text text-anchor=\"middle\" x=\"835\" y=\"-364.8\" font-family=\"Times,serif\" font-size=\"14.00\" fill=\"#000000\">value = [141005, 142824]</text>\n",
       "<text text-anchor=\"middle\" x=\"835\" y=\"-349.8\" font-family=\"Times,serif\" font-size=\"14.00\" fill=\"#000000\">class = 1</text>\n",
       "</g>\n",
       "<!-- 0&#45;&gt;1 -->\n",
       "<g id=\"edge1\" class=\"edge\">\n",
       "<title>0&#45;&gt;1</title>\n",
       "<path fill=\"none\" stroke=\"#000000\" d=\"M1030.3891,-467.4397C997.422,-453.277 959.2502,-436.8782 925.4402,-422.3534\"/>\n",
       "<polygon fill=\"#000000\" stroke=\"#000000\" points=\"926.5972,-419.0412 916.0276,-418.3097 923.8341,-425.4728 926.5972,-419.0412\"/>\n",
       "<text text-anchor=\"middle\" x=\"925.2922\" y=\"-437.8297\" font-family=\"Times,serif\" font-size=\"14.00\" fill=\"#000000\">True</text>\n",
       "</g>\n",
       "<!-- 16 -->\n",
       "<g id=\"node17\" class=\"node\">\n",
       "<title>16</title>\n",
       "<polygon fill=\"#6ab5eb\" stroke=\"#000000\" points=\"1495.5,-425 1308.5,-425 1308.5,-342 1495.5,-342 1495.5,-425\"/>\n",
       "<text text-anchor=\"middle\" x=\"1402\" y=\"-409.8\" font-family=\"Times,serif\" font-size=\"14.00\" fill=\"#000000\">ads_channel_Facebook &lt;= 0.5</text>\n",
       "<text text-anchor=\"middle\" x=\"1402\" y=\"-394.8\" font-family=\"Times,serif\" font-size=\"14.00\" fill=\"#000000\">gini = 0.319</text>\n",
       "<text text-anchor=\"middle\" x=\"1402\" y=\"-379.8\" font-family=\"Times,serif\" font-size=\"14.00\" fill=\"#000000\">samples = 37402</text>\n",
       "<text text-anchor=\"middle\" x=\"1402\" y=\"-364.8\" font-family=\"Times,serif\" font-size=\"14.00\" fill=\"#000000\">value = [7438, 29964]</text>\n",
       "<text text-anchor=\"middle\" x=\"1402\" y=\"-349.8\" font-family=\"Times,serif\" font-size=\"14.00\" fill=\"#000000\">class = 1</text>\n",
       "</g>\n",
       "<!-- 0&#45;&gt;16 -->\n",
       "<g id=\"edge16\" class=\"edge\">\n",
       "<title>0&#45;&gt;16</title>\n",
       "<path fill=\"none\" stroke=\"#000000\" d=\"M1193.5529,-469.0352C1226.17,-455.6509 1264.1225,-440.0773 1298.6362,-425.9148\"/>\n",
       "<polygon fill=\"#000000\" stroke=\"#000000\" points=\"1300.3497,-428.995 1308.2724,-421.9606 1297.6923,-422.519 1300.3497,-428.995\"/>\n",
       "<text text-anchor=\"middle\" x=\"1298.629\" y=\"-441.3259\" font-family=\"Times,serif\" font-size=\"14.00\" fill=\"#000000\">False</text>\n",
       "</g>\n",
       "<!-- 2 -->\n",
       "<g id=\"node3\" class=\"node\">\n",
       "<title>2</title>\n",
       "<polygon fill=\"#fffefe\" stroke=\"#000000\" points=\"558,-306 396,-306 396,-223 558,-223 558,-306\"/>\n",
       "<text text-anchor=\"middle\" x=\"477\" y=\"-290.8\" font-family=\"Times,serif\" font-size=\"14.00\" fill=\"#000000\">age &lt;= 56.5</text>\n",
       "<text text-anchor=\"middle\" x=\"477\" y=\"-275.8\" font-family=\"Times,serif\" font-size=\"14.00\" fill=\"#000000\">gini = 0.5</text>\n",
       "<text text-anchor=\"middle\" x=\"477\" y=\"-260.8\" font-family=\"Times,serif\" font-size=\"14.00\" fill=\"#000000\">samples = 280542</text>\n",
       "<text text-anchor=\"middle\" x=\"477\" y=\"-245.8\" font-family=\"Times,serif\" font-size=\"14.00\" fill=\"#000000\">value = [140673, 139869]</text>\n",
       "<text text-anchor=\"middle\" x=\"477\" y=\"-230.8\" font-family=\"Times,serif\" font-size=\"14.00\" fill=\"#000000\">class = 0</text>\n",
       "</g>\n",
       "<!-- 1&#45;&gt;2 -->\n",
       "<g id=\"edge2\" class=\"edge\">\n",
       "<title>1&#45;&gt;2</title>\n",
       "<path fill=\"none\" stroke=\"#000000\" d=\"M753.7643,-356.4971C698.477,-338.1194 625.2402,-313.7754 567.992,-294.746\"/>\n",
       "<polygon fill=\"#000000\" stroke=\"#000000\" points=\"568.817,-291.3319 558.2235,-291.4989 566.609,-297.9746 568.817,-291.3319\"/>\n",
       "</g>\n",
       "<!-- 9 -->\n",
       "<g id=\"node10\" class=\"node\">\n",
       "<title>9</title>\n",
       "<polygon fill=\"#4fa8e8\" stroke=\"#000000\" points=\"898.5,-306 771.5,-306 771.5,-223 898.5,-223 898.5,-306\"/>\n",
       "<text text-anchor=\"middle\" x=\"835\" y=\"-290.8\" font-family=\"Times,serif\" font-size=\"14.00\" fill=\"#000000\">age &lt;= 24.5</text>\n",
       "<text text-anchor=\"middle\" x=\"835\" y=\"-275.8\" font-family=\"Times,serif\" font-size=\"14.00\" fill=\"#000000\">gini = 0.182</text>\n",
       "<text text-anchor=\"middle\" x=\"835\" y=\"-260.8\" font-family=\"Times,serif\" font-size=\"14.00\" fill=\"#000000\">samples = 3287</text>\n",
       "<text text-anchor=\"middle\" x=\"835\" y=\"-245.8\" font-family=\"Times,serif\" font-size=\"14.00\" fill=\"#000000\">value = [332, 2955]</text>\n",
       "<text text-anchor=\"middle\" x=\"835\" y=\"-230.8\" font-family=\"Times,serif\" font-size=\"14.00\" fill=\"#000000\">class = 1</text>\n",
       "</g>\n",
       "<!-- 1&#45;&gt;9 -->\n",
       "<g id=\"edge9\" class=\"edge\">\n",
       "<title>1&#45;&gt;9</title>\n",
       "<path fill=\"none\" stroke=\"#000000\" d=\"M835,-341.8796C835,-333.6838 835,-324.9891 835,-316.5013\"/>\n",
       "<polygon fill=\"#000000\" stroke=\"#000000\" points=\"838.5001,-316.298 835,-306.2981 831.5001,-316.2981 838.5001,-316.298\"/>\n",
       "</g>\n",
       "<!-- 3 -->\n",
       "<g id=\"node4\" class=\"node\">\n",
       "<title>3</title>\n",
       "<polygon fill=\"#fffefe\" stroke=\"#000000\" points=\"335,-187 173,-187 173,-104 335,-104 335,-187\"/>\n",
       "<text text-anchor=\"middle\" x=\"254\" y=\"-171.8\" font-family=\"Times,serif\" font-size=\"14.00\" fill=\"#000000\">browser_Safari &lt;= 0.5</text>\n",
       "<text text-anchor=\"middle\" x=\"254\" y=\"-156.8\" font-family=\"Times,serif\" font-size=\"14.00\" fill=\"#000000\">gini = 0.5</text>\n",
       "<text text-anchor=\"middle\" x=\"254\" y=\"-141.8\" font-family=\"Times,serif\" font-size=\"14.00\" fill=\"#000000\">samples = 280444</text>\n",
       "<text text-anchor=\"middle\" x=\"254\" y=\"-126.8\" font-family=\"Times,serif\" font-size=\"14.00\" fill=\"#000000\">value = [140613, 139831]</text>\n",
       "<text text-anchor=\"middle\" x=\"254\" y=\"-111.8\" font-family=\"Times,serif\" font-size=\"14.00\" fill=\"#000000\">class = 0</text>\n",
       "</g>\n",
       "<!-- 2&#45;&gt;3 -->\n",
       "<g id=\"edge3\" class=\"edge\">\n",
       "<title>2&#45;&gt;3</title>\n",
       "<path fill=\"none\" stroke=\"#000000\" d=\"M399.0054,-222.8796C380.2475,-212.8697 360.0948,-202.1156 340.9572,-191.9031\"/>\n",
       "<polygon fill=\"#000000\" stroke=\"#000000\" points=\"342.4208,-188.7171 331.9505,-187.0969 339.1252,-194.8928 342.4208,-188.7171\"/>\n",
       "</g>\n",
       "<!-- 6 -->\n",
       "<g id=\"node7\" class=\"node\">\n",
       "<title>6</title>\n",
       "<polygon fill=\"#f5d1b6\" stroke=\"#000000\" points=\"562,-187 392,-187 392,-104 562,-104 562,-187\"/>\n",
       "<text text-anchor=\"middle\" x=\"477\" y=\"-171.8\" font-family=\"Times,serif\" font-size=\"14.00\" fill=\"#000000\">ads_channel_Yahoo &lt;= 0.5</text>\n",
       "<text text-anchor=\"middle\" x=\"477\" y=\"-156.8\" font-family=\"Times,serif\" font-size=\"14.00\" fill=\"#000000\">gini = 0.475</text>\n",
       "<text text-anchor=\"middle\" x=\"477\" y=\"-141.8\" font-family=\"Times,serif\" font-size=\"14.00\" fill=\"#000000\">samples = 98</text>\n",
       "<text text-anchor=\"middle\" x=\"477\" y=\"-126.8\" font-family=\"Times,serif\" font-size=\"14.00\" fill=\"#000000\">value = [60, 38]</text>\n",
       "<text text-anchor=\"middle\" x=\"477\" y=\"-111.8\" font-family=\"Times,serif\" font-size=\"14.00\" fill=\"#000000\">class = 0</text>\n",
       "</g>\n",
       "<!-- 2&#45;&gt;6 -->\n",
       "<g id=\"edge6\" class=\"edge\">\n",
       "<title>2&#45;&gt;6</title>\n",
       "<path fill=\"none\" stroke=\"#000000\" d=\"M477,-222.8796C477,-214.6838 477,-205.9891 477,-197.5013\"/>\n",
       "<polygon fill=\"#000000\" stroke=\"#000000\" points=\"480.5001,-197.298 477,-187.2981 473.5001,-197.2981 480.5001,-197.298\"/>\n",
       "</g>\n",
       "<!-- 4 -->\n",
       "<g id=\"node5\" class=\"node\">\n",
       "<title>4</title>\n",
       "<polygon fill=\"#fffffe\" stroke=\"#000000\" points=\"162,-68 0,-68 0,0 162,0 162,-68\"/>\n",
       "<text text-anchor=\"middle\" x=\"81\" y=\"-52.8\" font-family=\"Times,serif\" font-size=\"14.00\" fill=\"#000000\">gini = 0.5</text>\n",
       "<text text-anchor=\"middle\" x=\"81\" y=\"-37.8\" font-family=\"Times,serif\" font-size=\"14.00\" fill=\"#000000\">samples = 254910</text>\n",
       "<text text-anchor=\"middle\" x=\"81\" y=\"-22.8\" font-family=\"Times,serif\" font-size=\"14.00\" fill=\"#000000\">value = [127650, 127260]</text>\n",
       "<text text-anchor=\"middle\" x=\"81\" y=\"-7.8\" font-family=\"Times,serif\" font-size=\"14.00\" fill=\"#000000\">class = 0</text>\n",
       "</g>\n",
       "<!-- 3&#45;&gt;4 -->\n",
       "<g id=\"edge4\" class=\"edge\">\n",
       "<title>3&#45;&gt;4</title>\n",
       "<path fill=\"none\" stroke=\"#000000\" d=\"M189.5812,-103.9815C174.2427,-94.0957 157.9115,-83.5701 142.6984,-73.7651\"/>\n",
       "<polygon fill=\"#000000\" stroke=\"#000000\" points=\"144.1878,-70.5611 133.8862,-68.0856 140.3956,-76.445 144.1878,-70.5611\"/>\n",
       "</g>\n",
       "<!-- 5 -->\n",
       "<g id=\"node6\" class=\"node\">\n",
       "<title>5</title>\n",
       "<polygon fill=\"#fefbf9\" stroke=\"#000000\" points=\"328,-68 180,-68 180,0 328,0 328,-68\"/>\n",
       "<text text-anchor=\"middle\" x=\"254\" y=\"-52.8\" font-family=\"Times,serif\" font-size=\"14.00\" fill=\"#000000\">gini = 0.5</text>\n",
       "<text text-anchor=\"middle\" x=\"254\" y=\"-37.8\" font-family=\"Times,serif\" font-size=\"14.00\" fill=\"#000000\">samples = 25534</text>\n",
       "<text text-anchor=\"middle\" x=\"254\" y=\"-22.8\" font-family=\"Times,serif\" font-size=\"14.00\" fill=\"#000000\">value = [12963, 12571]</text>\n",
       "<text text-anchor=\"middle\" x=\"254\" y=\"-7.8\" font-family=\"Times,serif\" font-size=\"14.00\" fill=\"#000000\">class = 0</text>\n",
       "</g>\n",
       "<!-- 3&#45;&gt;5 -->\n",
       "<g id=\"edge5\" class=\"edge\">\n",
       "<title>3&#45;&gt;5</title>\n",
       "<path fill=\"none\" stroke=\"#000000\" d=\"M254,-103.9815C254,-95.618 254,-86.7965 254,-78.3409\"/>\n",
       "<polygon fill=\"#000000\" stroke=\"#000000\" points=\"257.5001,-78.2636 254,-68.2637 250.5001,-78.2637 257.5001,-78.2636\"/>\n",
       "</g>\n",
       "<!-- 7 -->\n",
       "<g id=\"node8\" class=\"node\">\n",
       "<title>7</title>\n",
       "<polygon fill=\"#f4c7a8\" stroke=\"#000000\" points=\"452,-68 346,-68 346,0 452,0 452,-68\"/>\n",
       "<text text-anchor=\"middle\" x=\"399\" y=\"-52.8\" font-family=\"Times,serif\" font-size=\"14.00\" fill=\"#000000\">gini = 0.46</text>\n",
       "<text text-anchor=\"middle\" x=\"399\" y=\"-37.8\" font-family=\"Times,serif\" font-size=\"14.00\" fill=\"#000000\">samples = 92</text>\n",
       "<text text-anchor=\"middle\" x=\"399\" y=\"-22.8\" font-family=\"Times,serif\" font-size=\"14.00\" fill=\"#000000\">value = [59, 33]</text>\n",
       "<text text-anchor=\"middle\" x=\"399\" y=\"-7.8\" font-family=\"Times,serif\" font-size=\"14.00\" fill=\"#000000\">class = 0</text>\n",
       "</g>\n",
       "<!-- 6&#45;&gt;7 -->\n",
       "<g id=\"edge7\" class=\"edge\">\n",
       "<title>6&#45;&gt;7</title>\n",
       "<path fill=\"none\" stroke=\"#000000\" d=\"M447.9557,-103.9815C441.7192,-95.0666 435.1187,-85.6313 428.8522,-76.6734\"/>\n",
       "<polygon fill=\"#000000\" stroke=\"#000000\" points=\"431.5693,-74.4515 422.9692,-68.2637 425.8335,-78.464 431.5693,-74.4515\"/>\n",
       "</g>\n",
       "<!-- 8 -->\n",
       "<g id=\"node9\" class=\"node\">\n",
       "<title>8</title>\n",
       "<polygon fill=\"#61b1ea\" stroke=\"#000000\" points=\"562,-68 470,-68 470,0 562,0 562,-68\"/>\n",
       "<text text-anchor=\"middle\" x=\"516\" y=\"-52.8\" font-family=\"Times,serif\" font-size=\"14.00\" fill=\"#000000\">gini = 0.278</text>\n",
       "<text text-anchor=\"middle\" x=\"516\" y=\"-37.8\" font-family=\"Times,serif\" font-size=\"14.00\" fill=\"#000000\">samples = 6</text>\n",
       "<text text-anchor=\"middle\" x=\"516\" y=\"-22.8\" font-family=\"Times,serif\" font-size=\"14.00\" fill=\"#000000\">value = [1, 5]</text>\n",
       "<text text-anchor=\"middle\" x=\"516\" y=\"-7.8\" font-family=\"Times,serif\" font-size=\"14.00\" fill=\"#000000\">class = 1</text>\n",
       "</g>\n",
       "<!-- 6&#45;&gt;8 -->\n",
       "<g id=\"edge8\" class=\"edge\">\n",
       "<title>6&#45;&gt;8</title>\n",
       "<path fill=\"none\" stroke=\"#000000\" d=\"M491.5222,-103.9815C494.5118,-95.4342 497.6688,-86.4086 500.6854,-77.7839\"/>\n",
       "<polygon fill=\"#000000\" stroke=\"#000000\" points=\"504.0174,-78.8585 504.0154,-68.2637 497.41,-76.5473 504.0174,-78.8585\"/>\n",
       "</g>\n",
       "<!-- 10 -->\n",
       "<g id=\"node11\" class=\"node\">\n",
       "<title>10</title>\n",
       "<polygon fill=\"#4ca7e8\" stroke=\"#000000\" points=\"826.5,-187 699.5,-187 699.5,-104 826.5,-104 826.5,-187\"/>\n",
       "<text text-anchor=\"middle\" x=\"763\" y=\"-171.8\" font-family=\"Times,serif\" font-size=\"14.00\" fill=\"#000000\">source_Ads &lt;= 0.5</text>\n",
       "<text text-anchor=\"middle\" x=\"763\" y=\"-156.8\" font-family=\"Times,serif\" font-size=\"14.00\" fill=\"#000000\">gini = 0.163</text>\n",
       "<text text-anchor=\"middle\" x=\"763\" y=\"-141.8\" font-family=\"Times,serif\" font-size=\"14.00\" fill=\"#000000\">samples = 1390</text>\n",
       "<text text-anchor=\"middle\" x=\"763\" y=\"-126.8\" font-family=\"Times,serif\" font-size=\"14.00\" fill=\"#000000\">value = [124, 1266]</text>\n",
       "<text text-anchor=\"middle\" x=\"763\" y=\"-111.8\" font-family=\"Times,serif\" font-size=\"14.00\" fill=\"#000000\">class = 1</text>\n",
       "</g>\n",
       "<!-- 9&#45;&gt;10 -->\n",
       "<g id=\"edge10\" class=\"edge\">\n",
       "<title>9&#45;&gt;10</title>\n",
       "<path fill=\"none\" stroke=\"#000000\" d=\"M809.8179,-222.8796C804.5867,-214.2335 799.0195,-205.0322 793.6177,-196.1042\"/>\n",
       "<polygon fill=\"#000000\" stroke=\"#000000\" points=\"796.4608,-194.0421 788.2896,-187.2981 790.4717,-197.6658 796.4608,-194.0421\"/>\n",
       "</g>\n",
       "<!-- 13 -->\n",
       "<g id=\"node14\" class=\"node\">\n",
       "<title>13</title>\n",
       "<polygon fill=\"#51a9e8\" stroke=\"#000000\" points=\"971.5,-187 844.5,-187 844.5,-104 971.5,-104 971.5,-187\"/>\n",
       "<text text-anchor=\"middle\" x=\"908\" y=\"-171.8\" font-family=\"Times,serif\" font-size=\"14.00\" fill=\"#000000\">device_Web &lt;= 0.5</text>\n",
       "<text text-anchor=\"middle\" x=\"908\" y=\"-156.8\" font-family=\"Times,serif\" font-size=\"14.00\" fill=\"#000000\">gini = 0.195</text>\n",
       "<text text-anchor=\"middle\" x=\"908\" y=\"-141.8\" font-family=\"Times,serif\" font-size=\"14.00\" fill=\"#000000\">samples = 1897</text>\n",
       "<text text-anchor=\"middle\" x=\"908\" y=\"-126.8\" font-family=\"Times,serif\" font-size=\"14.00\" fill=\"#000000\">value = [208, 1689]</text>\n",
       "<text text-anchor=\"middle\" x=\"908\" y=\"-111.8\" font-family=\"Times,serif\" font-size=\"14.00\" fill=\"#000000\">class = 1</text>\n",
       "</g>\n",
       "<!-- 9&#45;&gt;13 -->\n",
       "<g id=\"edge13\" class=\"edge\">\n",
       "<title>9&#45;&gt;13</title>\n",
       "<path fill=\"none\" stroke=\"#000000\" d=\"M860.5319,-222.8796C865.891,-214.1434 871.5979,-204.8404 877.1282,-195.8253\"/>\n",
       "<polygon fill=\"#000000\" stroke=\"#000000\" points=\"880.1135,-197.6522 882.3592,-187.2981 874.1467,-193.9919 880.1135,-197.6522\"/>\n",
       "</g>\n",
       "<!-- 11 -->\n",
       "<g id=\"node12\" class=\"node\">\n",
       "<title>11</title>\n",
       "<polygon fill=\"#50a8e8\" stroke=\"#000000\" points=\"693.5,-68 580.5,-68 580.5,0 693.5,0 693.5,-68\"/>\n",
       "<text text-anchor=\"middle\" x=\"637\" y=\"-52.8\" font-family=\"Times,serif\" font-size=\"14.00\" fill=\"#000000\">gini = 0.183</text>\n",
       "<text text-anchor=\"middle\" x=\"637\" y=\"-37.8\" font-family=\"Times,serif\" font-size=\"14.00\" fill=\"#000000\">samples = 832</text>\n",
       "<text text-anchor=\"middle\" x=\"637\" y=\"-22.8\" font-family=\"Times,serif\" font-size=\"14.00\" fill=\"#000000\">value = [85, 747]</text>\n",
       "<text text-anchor=\"middle\" x=\"637\" y=\"-7.8\" font-family=\"Times,serif\" font-size=\"14.00\" fill=\"#000000\">class = 1</text>\n",
       "</g>\n",
       "<!-- 10&#45;&gt;11 -->\n",
       "<g id=\"edge11\" class=\"edge\">\n",
       "<title>10&#45;&gt;11</title>\n",
       "<path fill=\"none\" stroke=\"#000000\" d=\"M716.0823,-103.9815C705.3848,-94.5151 694.0244,-84.462 683.3508,-75.0168\"/>\n",
       "<polygon fill=\"#000000\" stroke=\"#000000\" points=\"685.5278,-72.2696 675.7195,-68.2637 680.8889,-77.5118 685.5278,-72.2696\"/>\n",
       "</g>\n",
       "<!-- 12 -->\n",
       "<g id=\"node13\" class=\"node\">\n",
       "<title>12</title>\n",
       "<polygon fill=\"#48a4e7\" stroke=\"#000000\" points=\"824.5,-68 711.5,-68 711.5,0 824.5,0 824.5,-68\"/>\n",
       "<text text-anchor=\"middle\" x=\"768\" y=\"-52.8\" font-family=\"Times,serif\" font-size=\"14.00\" fill=\"#000000\">gini = 0.13</text>\n",
       "<text text-anchor=\"middle\" x=\"768\" y=\"-37.8\" font-family=\"Times,serif\" font-size=\"14.00\" fill=\"#000000\">samples = 558</text>\n",
       "<text text-anchor=\"middle\" x=\"768\" y=\"-22.8\" font-family=\"Times,serif\" font-size=\"14.00\" fill=\"#000000\">value = [39, 519]</text>\n",
       "<text text-anchor=\"middle\" x=\"768\" y=\"-7.8\" font-family=\"Times,serif\" font-size=\"14.00\" fill=\"#000000\">class = 1</text>\n",
       "</g>\n",
       "<!-- 10&#45;&gt;12 -->\n",
       "<g id=\"edge12\" class=\"edge\">\n",
       "<title>10&#45;&gt;12</title>\n",
       "<path fill=\"none\" stroke=\"#000000\" d=\"M764.8618,-103.9815C765.2369,-95.618 765.6324,-86.7965 766.0116,-78.3409\"/>\n",
       "<polygon fill=\"#000000\" stroke=\"#000000\" points=\"769.5119,-78.4105 766.4635,-68.2637 762.519,-78.0968 769.5119,-78.4105\"/>\n",
       "</g>\n",
       "<!-- 14 -->\n",
       "<g id=\"node15\" class=\"node\">\n",
       "<title>14</title>\n",
       "<polygon fill=\"#55abe9\" stroke=\"#000000\" points=\"963,-68 843,-68 843,0 963,0 963,-68\"/>\n",
       "<text text-anchor=\"middle\" x=\"903\" y=\"-52.8\" font-family=\"Times,serif\" font-size=\"14.00\" fill=\"#000000\">gini = 0.217</text>\n",
       "<text text-anchor=\"middle\" x=\"903\" y=\"-37.8\" font-family=\"Times,serif\" font-size=\"14.00\" fill=\"#000000\">samples = 874</text>\n",
       "<text text-anchor=\"middle\" x=\"903\" y=\"-22.8\" font-family=\"Times,serif\" font-size=\"14.00\" fill=\"#000000\">value = [108, 766]</text>\n",
       "<text text-anchor=\"middle\" x=\"903\" y=\"-7.8\" font-family=\"Times,serif\" font-size=\"14.00\" fill=\"#000000\">class = 1</text>\n",
       "</g>\n",
       "<!-- 13&#45;&gt;14 -->\n",
       "<g id=\"edge14\" class=\"edge\">\n",
       "<title>13&#45;&gt;14</title>\n",
       "<path fill=\"none\" stroke=\"#000000\" d=\"M906.1382,-103.9815C905.7631,-95.618 905.3676,-86.7965 904.9884,-78.3409\"/>\n",
       "<polygon fill=\"#000000\" stroke=\"#000000\" points=\"908.481,-78.0968 904.5365,-68.2637 901.4881,-78.4105 908.481,-78.0968\"/>\n",
       "</g>\n",
       "<!-- 15 -->\n",
       "<g id=\"node16\" class=\"node\">\n",
       "<title>15</title>\n",
       "<polygon fill=\"#4ea8e8\" stroke=\"#000000\" points=\"1101,-68 981,-68 981,0 1101,0 1101,-68\"/>\n",
       "<text text-anchor=\"middle\" x=\"1041\" y=\"-52.8\" font-family=\"Times,serif\" font-size=\"14.00\" fill=\"#000000\">gini = 0.176</text>\n",
       "<text text-anchor=\"middle\" x=\"1041\" y=\"-37.8\" font-family=\"Times,serif\" font-size=\"14.00\" fill=\"#000000\">samples = 1023</text>\n",
       "<text text-anchor=\"middle\" x=\"1041\" y=\"-22.8\" font-family=\"Times,serif\" font-size=\"14.00\" fill=\"#000000\">value = [100, 923]</text>\n",
       "<text text-anchor=\"middle\" x=\"1041\" y=\"-7.8\" font-family=\"Times,serif\" font-size=\"14.00\" fill=\"#000000\">class = 1</text>\n",
       "</g>\n",
       "<!-- 13&#45;&gt;15 -->\n",
       "<g id=\"edge15\" class=\"edge\">\n",
       "<title>13&#45;&gt;15</title>\n",
       "<path fill=\"none\" stroke=\"#000000\" d=\"M957.5243,-103.9815C968.9257,-94.4232 981.0405,-84.2668 992.4021,-74.7419\"/>\n",
       "<polygon fill=\"#000000\" stroke=\"#000000\" points=\"994.7147,-77.3704 1000.1294,-68.2637 990.2175,-72.006 994.7147,-77.3704\"/>\n",
       "</g>\n",
       "<!-- 17 -->\n",
       "<g id=\"node18\" class=\"node\">\n",
       "<title>17</title>\n",
       "<polygon fill=\"#6bb6ec\" stroke=\"#000000\" points=\"1472.5,-306 1331.5,-306 1331.5,-223 1472.5,-223 1472.5,-306\"/>\n",
       "<text text-anchor=\"middle\" x=\"1402\" y=\"-290.8\" font-family=\"Times,serif\" font-size=\"14.00\" fill=\"#000000\">sex_M &lt;= 0.5</text>\n",
       "<text text-anchor=\"middle\" x=\"1402\" y=\"-275.8\" font-family=\"Times,serif\" font-size=\"14.00\" fill=\"#000000\">gini = 0.321</text>\n",
       "<text text-anchor=\"middle\" x=\"1402\" y=\"-260.8\" font-family=\"Times,serif\" font-size=\"14.00\" fill=\"#000000\">samples = 31781</text>\n",
       "<text text-anchor=\"middle\" x=\"1402\" y=\"-245.8\" font-family=\"Times,serif\" font-size=\"14.00\" fill=\"#000000\">value = [6376, 25405]</text>\n",
       "<text text-anchor=\"middle\" x=\"1402\" y=\"-230.8\" font-family=\"Times,serif\" font-size=\"14.00\" fill=\"#000000\">class = 1</text>\n",
       "</g>\n",
       "<!-- 16&#45;&gt;17 -->\n",
       "<g id=\"edge17\" class=\"edge\">\n",
       "<title>16&#45;&gt;17</title>\n",
       "<path fill=\"none\" stroke=\"#000000\" d=\"M1402,-341.8796C1402,-333.6838 1402,-324.9891 1402,-316.5013\"/>\n",
       "<polygon fill=\"#000000\" stroke=\"#000000\" points=\"1405.5001,-316.298 1402,-306.2981 1398.5001,-316.2981 1405.5001,-316.298\"/>\n",
       "</g>\n",
       "<!-- 24 -->\n",
       "<g id=\"node25\" class=\"node\">\n",
       "<title>24</title>\n",
       "<polygon fill=\"#67b4eb\" stroke=\"#000000\" points=\"1913,-306 1779,-306 1779,-223 1913,-223 1913,-306\"/>\n",
       "<text text-anchor=\"middle\" x=\"1846\" y=\"-290.8\" font-family=\"Times,serif\" font-size=\"14.00\" fill=\"#000000\">age &lt;= 51.5</text>\n",
       "<text text-anchor=\"middle\" x=\"1846\" y=\"-275.8\" font-family=\"Times,serif\" font-size=\"14.00\" fill=\"#000000\">gini = 0.306</text>\n",
       "<text text-anchor=\"middle\" x=\"1846\" y=\"-260.8\" font-family=\"Times,serif\" font-size=\"14.00\" fill=\"#000000\">samples = 5621</text>\n",
       "<text text-anchor=\"middle\" x=\"1846\" y=\"-245.8\" font-family=\"Times,serif\" font-size=\"14.00\" fill=\"#000000\">value = [1062, 4559]</text>\n",
       "<text text-anchor=\"middle\" x=\"1846\" y=\"-230.8\" font-family=\"Times,serif\" font-size=\"14.00\" fill=\"#000000\">class = 1</text>\n",
       "</g>\n",
       "<!-- 16&#45;&gt;24 -->\n",
       "<g id=\"edge24\" class=\"edge\">\n",
       "<title>16&#45;&gt;24</title>\n",
       "<path fill=\"none\" stroke=\"#000000\" d=\"M1495.6184,-358.4086C1576.8226,-336.6444 1692.9435,-305.5219 1768.8924,-285.1662\"/>\n",
       "<polygon fill=\"#000000\" stroke=\"#000000\" points=\"1770.1196,-288.4609 1778.8726,-282.4914 1768.3073,-281.6996 1770.1196,-288.4609\"/>\n",
       "</g>\n",
       "<!-- 18 -->\n",
       "<g id=\"node19\" class=\"node\">\n",
       "<title>18</title>\n",
       "<polygon fill=\"#6cb6ec\" stroke=\"#000000\" points=\"1393,-187 1251,-187 1251,-104 1393,-104 1393,-187\"/>\n",
       "<text text-anchor=\"middle\" x=\"1322\" y=\"-171.8\" font-family=\"Times,serif\" font-size=\"14.00\" fill=\"#000000\">browser_Safari &lt;= 0.5</text>\n",
       "<text text-anchor=\"middle\" x=\"1322\" y=\"-156.8\" font-family=\"Times,serif\" font-size=\"14.00\" fill=\"#000000\">gini = 0.326</text>\n",
       "<text text-anchor=\"middle\" x=\"1322\" y=\"-141.8\" font-family=\"Times,serif\" font-size=\"14.00\" fill=\"#000000\">samples = 13350</text>\n",
       "<text text-anchor=\"middle\" x=\"1322\" y=\"-126.8\" font-family=\"Times,serif\" font-size=\"14.00\" fill=\"#000000\">value = [2737, 10613]</text>\n",
       "<text text-anchor=\"middle\" x=\"1322\" y=\"-111.8\" font-family=\"Times,serif\" font-size=\"14.00\" fill=\"#000000\">class = 1</text>\n",
       "</g>\n",
       "<!-- 17&#45;&gt;18 -->\n",
       "<g id=\"edge18\" class=\"edge\">\n",
       "<title>17&#45;&gt;18</title>\n",
       "<path fill=\"none\" stroke=\"#000000\" d=\"M1374.0199,-222.8796C1368.1469,-214.1434 1361.8927,-204.8404 1355.8321,-195.8253\"/>\n",
       "<polygon fill=\"#000000\" stroke=\"#000000\" points=\"1358.5834,-193.6444 1350.0995,-187.2981 1352.7741,-197.5498 1358.5834,-193.6444\"/>\n",
       "</g>\n",
       "<!-- 21 -->\n",
       "<g id=\"node22\" class=\"node\">\n",
       "<title>21</title>\n",
       "<polygon fill=\"#6ab5eb\" stroke=\"#000000\" points=\"1552.5,-187 1411.5,-187 1411.5,-104 1552.5,-104 1552.5,-187\"/>\n",
       "<text text-anchor=\"middle\" x=\"1482\" y=\"-171.8\" font-family=\"Times,serif\" font-size=\"14.00\" fill=\"#000000\">age &lt;= 21.5</text>\n",
       "<text text-anchor=\"middle\" x=\"1482\" y=\"-156.8\" font-family=\"Times,serif\" font-size=\"14.00\" fill=\"#000000\">gini = 0.317</text>\n",
       "<text text-anchor=\"middle\" x=\"1482\" y=\"-141.8\" font-family=\"Times,serif\" font-size=\"14.00\" fill=\"#000000\">samples = 18431</text>\n",
       "<text text-anchor=\"middle\" x=\"1482\" y=\"-126.8\" font-family=\"Times,serif\" font-size=\"14.00\" fill=\"#000000\">value = [3639, 14792]</text>\n",
       "<text text-anchor=\"middle\" x=\"1482\" y=\"-111.8\" font-family=\"Times,serif\" font-size=\"14.00\" fill=\"#000000\">class = 1</text>\n",
       "</g>\n",
       "<!-- 17&#45;&gt;21 -->\n",
       "<g id=\"edge21\" class=\"edge\">\n",
       "<title>17&#45;&gt;21</title>\n",
       "<path fill=\"none\" stroke=\"#000000\" d=\"M1429.9801,-222.8796C1435.8531,-214.1434 1442.1073,-204.8404 1448.1679,-195.8253\"/>\n",
       "<polygon fill=\"#000000\" stroke=\"#000000\" points=\"1451.2259,-197.5498 1453.9005,-187.2981 1445.4166,-193.6444 1451.2259,-197.5498\"/>\n",
       "</g>\n",
       "<!-- 19 -->\n",
       "<g id=\"node20\" class=\"node\">\n",
       "<title>19</title>\n",
       "<polygon fill=\"#6bb6ec\" stroke=\"#000000\" points=\"1253,-68 1119,-68 1119,0 1253,0 1253,-68\"/>\n",
       "<text text-anchor=\"middle\" x=\"1186\" y=\"-52.8\" font-family=\"Times,serif\" font-size=\"14.00\" fill=\"#000000\">gini = 0.322</text>\n",
       "<text text-anchor=\"middle\" x=\"1186\" y=\"-37.8\" font-family=\"Times,serif\" font-size=\"14.00\" fill=\"#000000\">samples = 12198</text>\n",
       "<text text-anchor=\"middle\" x=\"1186\" y=\"-22.8\" font-family=\"Times,serif\" font-size=\"14.00\" fill=\"#000000\">value = [2462, 9736]</text>\n",
       "<text text-anchor=\"middle\" x=\"1186\" y=\"-7.8\" font-family=\"Times,serif\" font-size=\"14.00\" fill=\"#000000\">class = 1</text>\n",
       "</g>\n",
       "<!-- 18&#45;&gt;19 -->\n",
       "<g id=\"edge19\" class=\"edge\">\n",
       "<title>18&#45;&gt;19</title>\n",
       "<path fill=\"none\" stroke=\"#000000\" d=\"M1271.3586,-103.9815C1259.7001,-94.4232 1247.312,-84.2668 1235.6941,-74.7419\"/>\n",
       "<polygon fill=\"#000000\" stroke=\"#000000\" points=\"1237.7448,-71.8972 1227.7925,-68.2637 1233.3067,-77.3105 1237.7448,-71.8972\"/>\n",
       "</g>\n",
       "<!-- 20 -->\n",
       "<g id=\"node21\" class=\"node\">\n",
       "<title>20</title>\n",
       "<polygon fill=\"#77bced\" stroke=\"#000000\" points=\"1391,-68 1271,-68 1271,0 1391,0 1391,-68\"/>\n",
       "<text text-anchor=\"middle\" x=\"1331\" y=\"-52.8\" font-family=\"Times,serif\" font-size=\"14.00\" fill=\"#000000\">gini = 0.363</text>\n",
       "<text text-anchor=\"middle\" x=\"1331\" y=\"-37.8\" font-family=\"Times,serif\" font-size=\"14.00\" fill=\"#000000\">samples = 1152</text>\n",
       "<text text-anchor=\"middle\" x=\"1331\" y=\"-22.8\" font-family=\"Times,serif\" font-size=\"14.00\" fill=\"#000000\">value = [275, 877]</text>\n",
       "<text text-anchor=\"middle\" x=\"1331\" y=\"-7.8\" font-family=\"Times,serif\" font-size=\"14.00\" fill=\"#000000\">class = 1</text>\n",
       "</g>\n",
       "<!-- 18&#45;&gt;20 -->\n",
       "<g id=\"edge20\" class=\"edge\">\n",
       "<title>18&#45;&gt;20</title>\n",
       "<path fill=\"none\" stroke=\"#000000\" d=\"M1325.3513,-103.9815C1326.0263,-95.618 1326.7384,-86.7965 1327.4209,-78.3409\"/>\n",
       "<polygon fill=\"#000000\" stroke=\"#000000\" points=\"1330.9183,-78.5129 1328.2343,-68.2637 1323.941,-77.9496 1330.9183,-78.5129\"/>\n",
       "</g>\n",
       "<!-- 22 -->\n",
       "<g id=\"node23\" class=\"node\">\n",
       "<title>22</title>\n",
       "<polygon fill=\"#67b4eb\" stroke=\"#000000\" points=\"1536.5,-68 1409.5,-68 1409.5,0 1536.5,0 1536.5,-68\"/>\n",
       "<text text-anchor=\"middle\" x=\"1473\" y=\"-52.8\" font-family=\"Times,serif\" font-size=\"14.00\" fill=\"#000000\">gini = 0.306</text>\n",
       "<text text-anchor=\"middle\" x=\"1473\" y=\"-37.8\" font-family=\"Times,serif\" font-size=\"14.00\" fill=\"#000000\">samples = 4264</text>\n",
       "<text text-anchor=\"middle\" x=\"1473\" y=\"-22.8\" font-family=\"Times,serif\" font-size=\"14.00\" fill=\"#000000\">value = [803, 3461]</text>\n",
       "<text text-anchor=\"middle\" x=\"1473\" y=\"-7.8\" font-family=\"Times,serif\" font-size=\"14.00\" fill=\"#000000\">class = 1</text>\n",
       "</g>\n",
       "<!-- 21&#45;&gt;22 -->\n",
       "<g id=\"edge22\" class=\"edge\">\n",
       "<title>21&#45;&gt;22</title>\n",
       "<path fill=\"none\" stroke=\"#000000\" d=\"M1478.6487,-103.9815C1477.9737,-95.618 1477.2616,-86.7965 1476.5791,-78.3409\"/>\n",
       "<polygon fill=\"#000000\" stroke=\"#000000\" points=\"1480.059,-77.9496 1475.7657,-68.2637 1473.0817,-78.5129 1480.059,-77.9496\"/>\n",
       "</g>\n",
       "<!-- 23 -->\n",
       "<g id=\"node24\" class=\"node\">\n",
       "<title>23</title>\n",
       "<polygon fill=\"#6bb6ec\" stroke=\"#000000\" points=\"1695.5,-68 1554.5,-68 1554.5,0 1695.5,0 1695.5,-68\"/>\n",
       "<text text-anchor=\"middle\" x=\"1625\" y=\"-52.8\" font-family=\"Times,serif\" font-size=\"14.00\" fill=\"#000000\">gini = 0.32</text>\n",
       "<text text-anchor=\"middle\" x=\"1625\" y=\"-37.8\" font-family=\"Times,serif\" font-size=\"14.00\" fill=\"#000000\">samples = 14167</text>\n",
       "<text text-anchor=\"middle\" x=\"1625\" y=\"-22.8\" font-family=\"Times,serif\" font-size=\"14.00\" fill=\"#000000\">value = [2836, 11331]</text>\n",
       "<text text-anchor=\"middle\" x=\"1625\" y=\"-7.8\" font-family=\"Times,serif\" font-size=\"14.00\" fill=\"#000000\">class = 1</text>\n",
       "</g>\n",
       "<!-- 21&#45;&gt;23 -->\n",
       "<g id=\"edge23\" class=\"edge\">\n",
       "<title>21&#45;&gt;23</title>\n",
       "<path fill=\"none\" stroke=\"#000000\" d=\"M1535.2479,-103.9815C1547.6244,-94.3313 1560.7828,-84.0714 1573.1003,-74.4673\"/>\n",
       "<polygon fill=\"#000000\" stroke=\"#000000\" points=\"1575.3225,-77.1728 1581.0565,-68.2637 1571.0182,-71.6525 1575.3225,-77.1728\"/>\n",
       "</g>\n",
       "<!-- 25 -->\n",
       "<g id=\"node26\" class=\"node\">\n",
       "<title>25</title>\n",
       "<polygon fill=\"#67b4eb\" stroke=\"#000000\" points=\"1916.5,-187 1775.5,-187 1775.5,-104 1916.5,-104 1916.5,-187\"/>\n",
       "<text text-anchor=\"middle\" x=\"1846\" y=\"-171.8\" font-family=\"Times,serif\" font-size=\"14.00\" fill=\"#000000\">device_Mobile &lt;= 0.5</text>\n",
       "<text text-anchor=\"middle\" x=\"1846\" y=\"-156.8\" font-family=\"Times,serif\" font-size=\"14.00\" fill=\"#000000\">gini = 0.306</text>\n",
       "<text text-anchor=\"middle\" x=\"1846\" y=\"-141.8\" font-family=\"Times,serif\" font-size=\"14.00\" fill=\"#000000\">samples = 5614</text>\n",
       "<text text-anchor=\"middle\" x=\"1846\" y=\"-126.8\" font-family=\"Times,serif\" font-size=\"14.00\" fill=\"#000000\">value = [1058, 4556]</text>\n",
       "<text text-anchor=\"middle\" x=\"1846\" y=\"-111.8\" font-family=\"Times,serif\" font-size=\"14.00\" fill=\"#000000\">class = 1</text>\n",
       "</g>\n",
       "<!-- 24&#45;&gt;25 -->\n",
       "<g id=\"edge25\" class=\"edge\">\n",
       "<title>24&#45;&gt;25</title>\n",
       "<path fill=\"none\" stroke=\"#000000\" d=\"M1846,-222.8796C1846,-214.6838 1846,-205.9891 1846,-197.5013\"/>\n",
       "<polygon fill=\"#000000\" stroke=\"#000000\" points=\"1849.5001,-197.298 1846,-187.2981 1842.5001,-197.2981 1849.5001,-197.298\"/>\n",
       "</g>\n",
       "<!-- 28 -->\n",
       "<g id=\"node29\" class=\"node\">\n",
       "<title>28</title>\n",
       "<polygon fill=\"#f8e0ce\" stroke=\"#000000\" points=\"2096,-187 2004,-187 2004,-104 2096,-104 2096,-187\"/>\n",
       "<text text-anchor=\"middle\" x=\"2050\" y=\"-171.8\" font-family=\"Times,serif\" font-size=\"14.00\" fill=\"#000000\">age &lt;= 53.5</text>\n",
       "<text text-anchor=\"middle\" x=\"2050\" y=\"-156.8\" font-family=\"Times,serif\" font-size=\"14.00\" fill=\"#000000\">gini = 0.49</text>\n",
       "<text text-anchor=\"middle\" x=\"2050\" y=\"-141.8\" font-family=\"Times,serif\" font-size=\"14.00\" fill=\"#000000\">samples = 7</text>\n",
       "<text text-anchor=\"middle\" x=\"2050\" y=\"-126.8\" font-family=\"Times,serif\" font-size=\"14.00\" fill=\"#000000\">value = [4, 3]</text>\n",
       "<text text-anchor=\"middle\" x=\"2050\" y=\"-111.8\" font-family=\"Times,serif\" font-size=\"14.00\" fill=\"#000000\">class = 0</text>\n",
       "</g>\n",
       "<!-- 24&#45;&gt;28 -->\n",
       "<g id=\"edge28\" class=\"edge\">\n",
       "<title>24&#45;&gt;28</title>\n",
       "<path fill=\"none\" stroke=\"#000000\" d=\"M1913.0798,-225.3701C1939.6734,-209.8572 1969.8686,-192.2433 1995.1237,-177.5112\"/>\n",
       "<polygon fill=\"#000000\" stroke=\"#000000\" points=\"1996.9625,-180.4906 2003.8367,-172.4286 1993.4353,-174.4441 1996.9625,-180.4906\"/>\n",
       "</g>\n",
       "<!-- 26 -->\n",
       "<g id=\"node27\" class=\"node\">\n",
       "<title>26</title>\n",
       "<polygon fill=\"#69b5eb\" stroke=\"#000000\" points=\"1840.5,-68 1713.5,-68 1713.5,0 1840.5,0 1840.5,-68\"/>\n",
       "<text text-anchor=\"middle\" x=\"1777\" y=\"-52.8\" font-family=\"Times,serif\" font-size=\"14.00\" fill=\"#000000\">gini = 0.315</text>\n",
       "<text text-anchor=\"middle\" x=\"1777\" y=\"-37.8\" font-family=\"Times,serif\" font-size=\"14.00\" fill=\"#000000\">samples = 3061</text>\n",
       "<text text-anchor=\"middle\" x=\"1777\" y=\"-22.8\" font-family=\"Times,serif\" font-size=\"14.00\" fill=\"#000000\">value = [600, 2461]</text>\n",
       "<text text-anchor=\"middle\" x=\"1777\" y=\"-7.8\" font-family=\"Times,serif\" font-size=\"14.00\" fill=\"#000000\">class = 1</text>\n",
       "</g>\n",
       "<!-- 25&#45;&gt;26 -->\n",
       "<g id=\"edge26\" class=\"edge\">\n",
       "<title>25&#45;&gt;26</title>\n",
       "<path fill=\"none\" stroke=\"#000000\" d=\"M1820.3069,-103.9815C1814.8469,-95.1585 1809.0716,-85.8258 1803.5793,-76.9506\"/>\n",
       "<polygon fill=\"#000000\" stroke=\"#000000\" points=\"1806.442,-74.9254 1798.2035,-68.2637 1800.4896,-78.609 1806.442,-74.9254\"/>\n",
       "</g>\n",
       "<!-- 27 -->\n",
       "<g id=\"node28\" class=\"node\">\n",
       "<title>27</title>\n",
       "<polygon fill=\"#64b2eb\" stroke=\"#000000\" points=\"1985.5,-68 1858.5,-68 1858.5,0 1985.5,0 1985.5,-68\"/>\n",
       "<text text-anchor=\"middle\" x=\"1922\" y=\"-52.8\" font-family=\"Times,serif\" font-size=\"14.00\" fill=\"#000000\">gini = 0.294</text>\n",
       "<text text-anchor=\"middle\" x=\"1922\" y=\"-37.8\" font-family=\"Times,serif\" font-size=\"14.00\" fill=\"#000000\">samples = 2553</text>\n",
       "<text text-anchor=\"middle\" x=\"1922\" y=\"-22.8\" font-family=\"Times,serif\" font-size=\"14.00\" fill=\"#000000\">value = [458, 2095]</text>\n",
       "<text text-anchor=\"middle\" x=\"1922\" y=\"-7.8\" font-family=\"Times,serif\" font-size=\"14.00\" fill=\"#000000\">class = 1</text>\n",
       "</g>\n",
       "<!-- 25&#45;&gt;27 -->\n",
       "<g id=\"edge27\" class=\"edge\">\n",
       "<title>25&#45;&gt;27</title>\n",
       "<path fill=\"none\" stroke=\"#000000\" d=\"M1874.2996,-103.9815C1880.3762,-95.0666 1886.8074,-85.6313 1892.9132,-76.6734\"/>\n",
       "<polygon fill=\"#000000\" stroke=\"#000000\" points=\"1895.9052,-78.498 1898.6454,-68.2637 1890.1211,-74.5555 1895.9052,-78.498\"/>\n",
       "</g>\n",
       "<!-- 29 -->\n",
       "<g id=\"node30\" class=\"node\">\n",
       "<title>29</title>\n",
       "<polygon fill=\"#eca06a\" stroke=\"#000000\" points=\"2096,-68 2004,-68 2004,0 2096,0 2096,-68\"/>\n",
       "<text text-anchor=\"middle\" x=\"2050\" y=\"-52.8\" font-family=\"Times,serif\" font-size=\"14.00\" fill=\"#000000\">gini = 0.32</text>\n",
       "<text text-anchor=\"middle\" x=\"2050\" y=\"-37.8\" font-family=\"Times,serif\" font-size=\"14.00\" fill=\"#000000\">samples = 5</text>\n",
       "<text text-anchor=\"middle\" x=\"2050\" y=\"-22.8\" font-family=\"Times,serif\" font-size=\"14.00\" fill=\"#000000\">value = [4, 1]</text>\n",
       "<text text-anchor=\"middle\" x=\"2050\" y=\"-7.8\" font-family=\"Times,serif\" font-size=\"14.00\" fill=\"#000000\">class = 0</text>\n",
       "</g>\n",
       "<!-- 28&#45;&gt;29 -->\n",
       "<g id=\"edge29\" class=\"edge\">\n",
       "<title>28&#45;&gt;29</title>\n",
       "<path fill=\"none\" stroke=\"#000000\" d=\"M2050,-103.9815C2050,-95.618 2050,-86.7965 2050,-78.3409\"/>\n",
       "<polygon fill=\"#000000\" stroke=\"#000000\" points=\"2053.5001,-78.2636 2050,-68.2637 2046.5001,-78.2637 2053.5001,-78.2636\"/>\n",
       "</g>\n",
       "<!-- 30 -->\n",
       "<g id=\"node31\" class=\"node\">\n",
       "<title>30</title>\n",
       "<polygon fill=\"#399de5\" stroke=\"#000000\" points=\"2206,-68 2114,-68 2114,0 2206,0 2206,-68\"/>\n",
       "<text text-anchor=\"middle\" x=\"2160\" y=\"-52.8\" font-family=\"Times,serif\" font-size=\"14.00\" fill=\"#000000\">gini = 0.0</text>\n",
       "<text text-anchor=\"middle\" x=\"2160\" y=\"-37.8\" font-family=\"Times,serif\" font-size=\"14.00\" fill=\"#000000\">samples = 2</text>\n",
       "<text text-anchor=\"middle\" x=\"2160\" y=\"-22.8\" font-family=\"Times,serif\" font-size=\"14.00\" fill=\"#000000\">value = [0, 2]</text>\n",
       "<text text-anchor=\"middle\" x=\"2160\" y=\"-7.8\" font-family=\"Times,serif\" font-size=\"14.00\" fill=\"#000000\">class = 1</text>\n",
       "</g>\n",
       "<!-- 28&#45;&gt;30 -->\n",
       "<g id=\"edge30\" class=\"edge\">\n",
       "<title>28&#45;&gt;30</title>\n",
       "<path fill=\"none\" stroke=\"#000000\" d=\"M2090.9599,-103.9815C2100.1176,-94.6989 2109.8319,-84.8522 2118.9915,-75.5677\"/>\n",
       "<polygon fill=\"#000000\" stroke=\"#000000\" points=\"2121.6658,-77.8406 2126.1973,-68.2637 2116.6826,-72.9244 2121.6658,-77.8406\"/>\n",
       "</g>\n",
       "</g>\n",
       "</svg>\n"
      ],
      "text/plain": [
       "<graphviz.files.Source at 0x1a16ccd1d0>"
      ]
     },
     "execution_count": 36,
     "metadata": {},
     "output_type": "execute_result"
    }
   ],
   "source": [
    "# DOT data\n",
    "features = model_dta.columns.tolist()[1:]\n",
    "dot_data = tree.export_graphviz(dtree, out_file=None, \n",
    "                                feature_names=features,  \n",
    "                                class_names=['0','1'],\n",
    "                                filled=True)\n",
    "\n",
    "# Draw graph\n",
    "graph = graphviz.Source(dot_data, format=\"png\") \n",
    "graph"
   ]
  },
  {
   "cell_type": "code",
   "execution_count": 37,
   "metadata": {},
   "outputs": [
    {
     "data": {
      "image/png": "[encoded data removed]",
      "text/plain": [
       "<Figure size 432x288 with 1 Axes>"
      ]
     },
     "metadata": {
      "needs_background": "light"
     },
     "output_type": "display_data"
    }
   ],
   "source": [
    "importances = dtree.feature_importances_\n",
    "indices = np.argsort(importances)\n",
    "num_features = 10 \n",
    "\n",
    "plt.title('Feature Importances')\n",
    "plt.barh(range(num_features), importances[indices[-num_features:]], color = 'maroon', align='center')\n",
    "plt.yticks(range(num_features), [features[i] for i in indices[-num_features:]])\n",
    "plt.xlabel('Relative Importance')\n",
    "plt.show()"
   ]
  },
  {
   "cell_type": "markdown",
   "metadata": {},
   "source": [
    "According to the tree plot and feature importance plot above, I found that most cases are labeled as experimental group in the nodes 'country_Argentina' and 'country_Uruguay', which means that 'country_Argentina' and 'country_Uruguay' can influence the group division, causing the selection bias."
   ]
  },
  {
   "cell_type": "code",
   "execution_count": null,
   "metadata": {},
   "outputs": [],
   "source": []
  }
 ],
 "metadata": {
  "kernelspec": {
   "display_name": "Python 3",
   "language": "python",
   "name": "python3"
  },
  "language_info": {
   "codemirror_mode": {
    "name": "ipython",
    "version": 3
   },
   "file_extension": ".py",
   "mimetype": "text/x-python",
   "name": "python",
   "nbconvert_exporter": "python",
   "pygments_lexer": "ipython3",
   "version": "3.7.3"
  }
 },
 "nbformat": 4,
 "nbformat_minor": 2
}
